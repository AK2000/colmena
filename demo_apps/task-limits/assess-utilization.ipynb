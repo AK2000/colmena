{
 "cells": [
  {
   "cell_type": "markdown",
   "metadata": {},
   "source": [
    "# Assessing Utilization\n",
    "We want to measure how much the system was utilized for different types of loads."
   ]
  },
  {
   "cell_type": "code",
   "execution_count": 1,
   "metadata": {},
   "outputs": [],
   "source": [
    "%matplotlib inline\n",
    "from matplotlib import pyplot as plt\n",
    "from pathlib import Path\n",
    "import pandas as pd\n",
    "import numpy as np\n",
    "import json\n",
    "params = {'legend.fontsize': 8,\n",
    "         'axes.labelsize': 9,\n",
    "         'axes.titlesize':'x-large',\n",
    "         'xtick.labelsize': 6,\n",
    "         'ytick.labelsize': 6}\n",
    "plt.rcParams.update(params)"
   ]
  },
  {
   "cell_type": "markdown",
   "metadata": {},
   "source": [
    "## Get the Runs\n",
    "Load in the different runs that are part of this benchmarking effort"
   ]
  },
  {
   "cell_type": "code",
   "execution_count": 2,
   "metadata": {},
   "outputs": [
    {
     "name": "stdout",
     "output_type": "stream",
     "text": [
      "Found 16 runs\n"
     ]
    }
   ],
   "source": [
    "runs = list(Path(\"./runs/\").rglob(\"*-tasks-*-workers/*/config.json\"))\n",
    "print(f'Found {len(runs)} runs')"
   ]
  },
  {
   "cell_type": "markdown",
   "metadata": {},
   "source": [
    "Summarize the runs"
   ]
  },
  {
   "cell_type": "code",
   "execution_count": 3,
   "metadata": {},
   "outputs": [],
   "source": [
    "def summarize_run(path: Path):\n",
    "    \"\"\"Get some details about the run\"\"\"\n",
    "    \n",
    "    with open(path) as fp:\n",
    "        config = json.load(fp)\n",
    "    \n",
    "    config['path'] = path.parent\n",
    "    return config"
   ]
  },
  {
   "cell_type": "code",
   "execution_count": 4,
   "metadata": {},
   "outputs": [],
   "source": [
    "results = pd.DataFrame(summarize_run(x) for x in runs)"
   ]
  },
  {
   "cell_type": "markdown",
   "metadata": {},
   "source": [
    "## Assess Utilization\n",
    "Our goal is to measure the utilization at \"steady state\" after all workers have finished loading in libraries.\n",
    "\n",
    "We do so by looking at how busy each worker is.\n",
    "We can measure this by starting the clock on utilization when the first task completes and ending it when the last result finishes.\n",
    "Utilization for that node is the total time compute was running devided by the time elapsed."
   ]
  },
  {
   "cell_type": "code",
   "execution_count": 5,
   "metadata": {},
   "outputs": [],
   "source": [
    "def get_utilization(path: Path):\n",
    "    \"\"\"Measure the average utilization of this run\"\"\"\n",
    "    \n",
    "    # Get the results for each worker\n",
    "    results = pd.read_json(path / \"results.json\", lines=True)\n",
    "    if len(results) == 0:\n",
    "        return None\n",
    "    results['worker'] = results['task_info'].apply(lambda x: f'{x[\"executor\"]}-{x[\"PARSL_WORKER_RANK\"]}')\n",
    "    \n",
    "    # Compute utilization per worker\n",
    "    utils = []\n",
    "    for gid, group in results.groupby('worker'):\n",
    "        group.sort_values('time_created', inplace=True)\n",
    "\n",
    "        # Get the total time running\n",
    "        start_time = group.iloc[0]['time_compute_started'] + group.iloc[0]['time_running']\n",
    "        end_time = group.iloc[-1]['time_compute_started'] + group.iloc[-1]['time_running']\n",
    "        time_elapsed = end_time - start_time\n",
    "\n",
    "        # Get the total time used\n",
    "        compute_used = group.iloc[1:]['time_running'].sum()\n",
    "\n",
    "        utils.append(compute_used / time_elapsed)\n",
    "    \n",
    "    return np.mean(utils)"
   ]
  },
  {
   "cell_type": "code",
   "execution_count": 6,
   "metadata": {},
   "outputs": [],
   "source": [
    "results['utilization'] = results['path'].apply(get_utilization)"
   ]
  },
  {
   "cell_type": "code",
   "execution_count": 7,
   "metadata": {},
   "outputs": [
    {
     "data": {
      "image/png": "[encoded data removed]",
      "text/plain": [
       "<Figure size 252x126 with 1 Axes>"
      ]
     },
     "metadata": {
      "needs_background": "light"
     },
     "output_type": "display_data"
    }
   ],
   "source": [
    "fig, ax = plt.subplots(figsize=(3.5, 1.75))\n",
    "\n",
    "for (gid, group), m in zip(results.groupby(['task_input_size', 'parallel_tasks']), ['o', 's', '^']):\n",
    "    group.sort_values('task_length', inplace=True)\n",
    "    group.drop_duplicates('task_length', inplace=True)\n",
    "    ax.semilogx(group['task_length'], group['utilization'] * 100, '--'+m, label=f'$s$={gid[0]}MB, $N$={gid[1]}')\n",
    "\n",
    "ax.set_ylim(0, 105)\n",
    "ax.set_ylabel('Utilization (%)')\n",
    "ax.set_xlabel('Task Duration (s)')\n",
    "ax.legend(fontsize=7)\n",
    "\n",
    "fig.tight_layout()\n",
    "fig.savefig('performance-envelope.pdf')"
   ]
  },
  {
   "cell_type": "code",
   "execution_count": 8,
   "metadata": {},
   "outputs": [
    {
     "data": {
      "text/html": [
       "<div>\n",
       "<style scoped>\n",
       "    .dataframe tbody tr th:only-of-type {\n",
       "        vertical-align: middle;\n",
       "    }\n",
       "\n",
       "    .dataframe tbody tr th {\n",
       "        vertical-align: top;\n",
       "    }\n",
       "\n",
       "    .dataframe thead th {\n",
       "        text-align: right;\n",
       "    }\n",
       "</style>\n",
       "<table border=\"1\" class=\"dataframe\">\n",
       "  <thead>\n",
       "    <tr style=\"text-align: right;\">\n",
       "      <th></th>\n",
       "      <th>config</th>\n",
       "      <th>redis_host</th>\n",
       "      <th>redis_port</th>\n",
       "      <th>local_host</th>\n",
       "      <th>task_input_size</th>\n",
       "      <th>task_output_size</th>\n",
       "      <th>task_count</th>\n",
       "      <th>worker_count</th>\n",
       "      <th>task_length</th>\n",
       "      <th>task_length_std</th>\n",
       "      <th>use_value_server</th>\n",
       "      <th>value_server_threshold</th>\n",
       "      <th>reuse_data</th>\n",
       "      <th>output_dir</th>\n",
       "      <th>parallel_tasks</th>\n",
       "      <th>queue</th>\n",
       "      <th>path</th>\n",
       "      <th>utilization</th>\n",
       "    </tr>\n",
       "  </thead>\n",
       "  <tbody>\n",
       "    <tr>\n",
       "      <th>15</th>\n",
       "      <td>None</td>\n",
       "      <td>thetamom2</td>\n",
       "      <td>59465</td>\n",
       "      <td>False</td>\n",
       "      <td>1.0</td>\n",
       "      <td>1.0</td>\n",
       "      <td>8192</td>\n",
       "      <td>64</td>\n",
       "      <td>0.1</td>\n",
       "      <td>0.1</td>\n",
       "      <td>False</td>\n",
       "      <td>1</td>\n",
       "      <td>False</td>\n",
       "      <td>runs/1MB-tasks-512-workers</td>\n",
       "      <td>512</td>\n",
       "      <td>debug-cache-quad</td>\n",
       "      <td>runs/1MB-tasks-512-workers/2021-05-28_19-08-23</td>\n",
       "      <td>0.006613</td>\n",
       "    </tr>\n",
       "    <tr>\n",
       "      <th>12</th>\n",
       "      <td>None</td>\n",
       "      <td>thetamom3</td>\n",
       "      <td>59465</td>\n",
       "      <td>False</td>\n",
       "      <td>1.0</td>\n",
       "      <td>1.0</td>\n",
       "      <td>8192</td>\n",
       "      <td>64</td>\n",
       "      <td>1.0</td>\n",
       "      <td>0.1</td>\n",
       "      <td>False</td>\n",
       "      <td>1</td>\n",
       "      <td>False</td>\n",
       "      <td>runs/1MB-tasks-512-workers</td>\n",
       "      <td>512</td>\n",
       "      <td>debug-cache-quad</td>\n",
       "      <td>runs/1MB-tasks-512-workers/2021-05-29_13-58-22</td>\n",
       "      <td>0.029602</td>\n",
       "    </tr>\n",
       "    <tr>\n",
       "      <th>13</th>\n",
       "      <td>None</td>\n",
       "      <td>thetamom2</td>\n",
       "      <td>59465</td>\n",
       "      <td>False</td>\n",
       "      <td>1.0</td>\n",
       "      <td>1.0</td>\n",
       "      <td>8192</td>\n",
       "      <td>64</td>\n",
       "      <td>10.0</td>\n",
       "      <td>0.1</td>\n",
       "      <td>False</td>\n",
       "      <td>1</td>\n",
       "      <td>False</td>\n",
       "      <td>runs/1MB-tasks-512-workers</td>\n",
       "      <td>512</td>\n",
       "      <td>debug-cache-quad</td>\n",
       "      <td>runs/1MB-tasks-512-workers/2021-05-28_21-45-38</td>\n",
       "      <td>0.662087</td>\n",
       "    </tr>\n",
       "    <tr>\n",
       "      <th>10</th>\n",
       "      <td>None</td>\n",
       "      <td>thetamom2</td>\n",
       "      <td>59465</td>\n",
       "      <td>False</td>\n",
       "      <td>1.0</td>\n",
       "      <td>1.0</td>\n",
       "      <td>8192</td>\n",
       "      <td>64</td>\n",
       "      <td>100.0</td>\n",
       "      <td>0.1</td>\n",
       "      <td>False</td>\n",
       "      <td>1</td>\n",
       "      <td>False</td>\n",
       "      <td>runs/1MB-tasks-512-workers</td>\n",
       "      <td>512</td>\n",
       "      <td>debug-cache-quad</td>\n",
       "      <td>runs/1MB-tasks-512-workers/2021-05-29_00-48-14</td>\n",
       "      <td>0.962757</td>\n",
       "    </tr>\n",
       "  </tbody>\n",
       "</table>\n",
       "</div>"
      ],
      "text/plain": [
       "   config redis_host redis_port  local_host  task_input_size  \\\n",
       "15   None  thetamom2      59465       False              1.0   \n",
       "12   None  thetamom3      59465       False              1.0   \n",
       "13   None  thetamom2      59465       False              1.0   \n",
       "10   None  thetamom2      59465       False              1.0   \n",
       "\n",
       "    task_output_size  task_count  worker_count  task_length  task_length_std  \\\n",
       "15               1.0        8192            64          0.1              0.1   \n",
       "12               1.0        8192            64          1.0              0.1   \n",
       "13               1.0        8192            64         10.0              0.1   \n",
       "10               1.0        8192            64        100.0              0.1   \n",
       "\n",
       "    use_value_server  value_server_threshold  reuse_data  \\\n",
       "15             False                       1       False   \n",
       "12             False                       1       False   \n",
       "13             False                       1       False   \n",
       "10             False                       1       False   \n",
       "\n",
       "                    output_dir  parallel_tasks             queue  \\\n",
       "15  runs/1MB-tasks-512-workers             512  debug-cache-quad   \n",
       "12  runs/1MB-tasks-512-workers             512  debug-cache-quad   \n",
       "13  runs/1MB-tasks-512-workers             512  debug-cache-quad   \n",
       "10  runs/1MB-tasks-512-workers             512  debug-cache-quad   \n",
       "\n",
       "                                              path  utilization  \n",
       "15  runs/1MB-tasks-512-workers/2021-05-28_19-08-23     0.006613  \n",
       "12  runs/1MB-tasks-512-workers/2021-05-29_13-58-22     0.029602  \n",
       "13  runs/1MB-tasks-512-workers/2021-05-28_21-45-38     0.662087  \n",
       "10  runs/1MB-tasks-512-workers/2021-05-29_00-48-14     0.962757  "
      ]
     },
     "execution_count": 8,
     "metadata": {},
     "output_type": "execute_result"
    }
   ],
   "source": [
    "group"
   ]
  },
  {
   "cell_type": "code",
   "execution_count": null,
   "metadata": {},
   "outputs": [],
   "source": []
  }
 ],
 "metadata": {
  "kernelspec": {
   "display_name": "Python 3",
   "language": "python",
   "name": "python3"
  },
  "language_info": {
   "codemirror_mode": {
    "name": "ipython",
    "version": 3
   },
   "file_extension": ".py",
   "mimetype": "text/x-python",
   "name": "python",
   "nbconvert_exporter": "python",
   "pygments_lexer": "ipython3",
   "version": "3.7.4"
  }
 },
 "nbformat": 4,
 "nbformat_minor": 4
}
