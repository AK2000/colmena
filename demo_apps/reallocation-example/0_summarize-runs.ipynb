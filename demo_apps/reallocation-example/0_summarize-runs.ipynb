{
 "cells": [
  {
   "cell_type": "markdown",
   "metadata": {},
   "source": [
    "# Summarize Runs\n",
    "Summarize the runs that have been performed to date"
   ]
  },
  {
   "cell_type": "code",
   "execution_count": 1,
   "metadata": {
    "execution": {
     "iopub.execute_input": "2021-03-11T21:52:06.302643Z",
     "iopub.status.busy": "2021-03-11T21:52:06.302067Z",
     "iopub.status.idle": "2021-03-11T21:52:06.736123Z",
     "shell.execute_reply": "2021-03-11T21:52:06.736683Z"
    }
   },
   "outputs": [],
   "source": [
    "%matplotlib inline\n",
    "from matplotlib import pyplot as plt\n",
    "from datetime import datetime\n",
    "from glob import glob\n",
    "import pandas as pd\n",
    "import json\n",
    "import re\n",
    "import os"
   ]
  },
  {
   "cell_type": "markdown",
   "metadata": {},
   "source": [
    "## Find the Result Directories\n",
    "They each contain a `runtime.log` file"
   ]
  },
  {
   "cell_type": "code",
   "execution_count": 2,
   "metadata": {
    "execution": {
     "iopub.execute_input": "2021-03-11T21:52:06.740326Z",
     "iopub.status.busy": "2021-03-11T21:52:06.739870Z",
     "iopub.status.idle": "2021-03-11T21:52:06.742844Z",
     "shell.execute_reply": "2021-03-11T21:52:06.743241Z"
    }
   },
   "outputs": [],
   "source": [
    "models = glob(os.path.join('runs', '**', 'results.json'))"
   ]
  },
  {
   "cell_type": "code",
   "execution_count": 3,
   "metadata": {
    "execution": {
     "iopub.execute_input": "2021-03-11T21:52:06.746623Z",
     "iopub.status.busy": "2021-03-11T21:52:06.745196Z",
     "iopub.status.idle": "2021-03-11T21:52:06.754656Z",
     "shell.execute_reply": "2021-03-11T21:52:06.755027Z"
    }
   },
   "outputs": [],
   "source": [
    "def load_models(log_path):\n",
    "    \"\"\"Get the information from the run in\n",
    "    \n",
    "    Args:\n",
    "        log_path (str): Path to the runtime log\n",
    "    \"\"\"\n",
    "    \n",
    "    # Store the path\n",
    "    run_dir = os.path.dirname(log_path)\n",
    "    path_name = os.path.basename(run_dir)\n",
    "    output = {\n",
    "        'path': run_dir,\n",
    "        'start_time': datetime.strptime(path_name.split(\"-\", 3)[-1], \"%d%m%y-%H%M%S\"),\n",
    "    }\n",
    "    \n",
    "    # Get the run parameters\n",
    "    with open(os.path.join(run_dir, 'params.json')) as fp:\n",
    "        output.update(json.load(fp))\n",
    "    for p in ['redishost', 'redisport']:\n",
    "        del output[p]\n",
    "        \n",
    "    # Count the number of workers\n",
    "    #  TODO (wardlt): Divide up by manager type\n",
    "    for m in glob(os.path.join(run_dir, '**', 'manager.log'), recursive=True):\n",
    "        workers = 0\n",
    "        with open(m) as fp:\n",
    "            workers += int(re.findall('Manager will spawn (\\d+) workers', fp.read(), re.MULTILINE)[0])\n",
    "    output['worker_count'] = workers\n",
    "        \n",
    "    # Get the number evaluated\n",
    "    with open(os.path.join(run_dir, 'results.json')) as fp:\n",
    "        output['n_evals'] = len(fp.readlines())\n",
    "    \n",
    "    return output"
   ]
  },
  {
   "cell_type": "code",
   "execution_count": 4,
   "metadata": {
    "execution": {
     "iopub.execute_input": "2021-03-11T21:52:06.762743Z",
     "iopub.status.busy": "2021-03-11T21:52:06.762190Z",
     "iopub.status.idle": "2021-03-11T21:52:06.776288Z",
     "shell.execute_reply": "2021-03-11T21:52:06.775690Z"
    }
   },
   "outputs": [
    {
     "data": {
      "text/html": [
       "<div>\n",
       "<style scoped>\n",
       "    .dataframe tbody tr th:only-of-type {\n",
       "        vertical-align: middle;\n",
       "    }\n",
       "\n",
       "    .dataframe tbody tr th {\n",
       "        vertical-align: top;\n",
       "    }\n",
       "\n",
       "    .dataframe thead th {\n",
       "        text-align: right;\n",
       "    }\n",
       "</style>\n",
       "<table border=\"1\" class=\"dataframe\">\n",
       "  <thead>\n",
       "    <tr style=\"text-align: right;\">\n",
       "      <th></th>\n",
       "      <th>path</th>\n",
       "      <th>start_time</th>\n",
       "      <th>num_guesses</th>\n",
       "      <th>num_parallel</th>\n",
       "      <th>retrain_wait</th>\n",
       "      <th>dim</th>\n",
       "      <th>runtime</th>\n",
       "      <th>runtime_var</th>\n",
       "      <th>opt_delay</th>\n",
       "      <th>file</th>\n",
       "      <th>worker_count</th>\n",
       "      <th>n_evals</th>\n",
       "    </tr>\n",
       "  </thead>\n",
       "  <tbody>\n",
       "    <tr>\n",
       "      <th>0</th>\n",
       "      <td>runs/reallocate-N100-P4-110321-153204</td>\n",
       "      <td>2021-03-11 15:32:04</td>\n",
       "      <td>100</td>\n",
       "      <td>4</td>\n",
       "      <td>20</td>\n",
       "      <td>4</td>\n",
       "      <td>2</td>\n",
       "      <td>1</td>\n",
       "      <td>20.0</td>\n",
       "      <td>reallocation.py</td>\n",
       "      <td>4</td>\n",
       "      <td>100</td>\n",
       "    </tr>\n",
       "  </tbody>\n",
       "</table>\n",
       "</div>"
      ],
      "text/plain": [
       "                                    path          start_time  num_guesses  \\\n",
       "0  runs/reallocate-N100-P4-110321-153204 2021-03-11 15:32:04          100   \n",
       "\n",
       "   num_parallel  retrain_wait  dim  runtime  runtime_var  opt_delay  \\\n",
       "0             4            20    4        2            1       20.0   \n",
       "\n",
       "              file  worker_count  n_evals  \n",
       "0  reallocation.py             4      100  "
      ]
     },
     "execution_count": 1,
     "metadata": {},
     "output_type": "execute_result"
    }
   ],
   "source": [
    "results = pd.DataFrame(load_models(m) for m in models)\n",
    "results"
   ]
  },
  {
   "cell_type": "code",
   "execution_count": 5,
   "metadata": {
    "execution": {
     "iopub.execute_input": "2021-03-11T21:52:06.780338Z",
     "iopub.status.busy": "2021-03-11T21:52:06.779872Z",
     "iopub.status.idle": "2021-03-11T21:52:06.784142Z",
     "shell.execute_reply": "2021-03-11T21:52:06.784679Z"
    }
   },
   "outputs": [],
   "source": [
    "results.to_csv('run_data.csv', index=False)"
   ]
  },
  {
   "cell_type": "code",
   "execution_count": null,
   "metadata": {},
   "outputs": [],
   "source": []
  }
 ],
 "metadata": {
  "kernelspec": {
   "display_name": "Python 3",
   "language": "python",
   "name": "python3"
  },
  "language_info": {
   "codemirror_mode": {
    "name": "ipython",
    "version": 3
   },
   "file_extension": ".py",
   "mimetype": "text/x-python",
   "name": "python",
   "nbconvert_exporter": "python",
   "pygments_lexer": "ipython3",
   "version": "3.7.9"
  }
 },
 "nbformat": 4,
 "nbformat_minor": 4
}
