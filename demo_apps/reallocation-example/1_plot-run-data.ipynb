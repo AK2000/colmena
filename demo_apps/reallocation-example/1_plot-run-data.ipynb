{
 "cells": [
  {
   "cell_type": "markdown",
   "metadata": {},
   "source": [
    "# Plot Run Data\n",
    "This notebook plots the performance of a run to assess the optimization performance and system utilization."
   ]
  },
  {
   "cell_type": "code",
   "execution_count": 1,
   "metadata": {
    "execution": {
     "iopub.execute_input": "2021-03-11T21:52:10.761780Z",
     "iopub.status.busy": "2021-03-11T21:52:10.761166Z",
     "iopub.status.idle": "2021-03-11T21:52:11.214300Z",
     "shell.execute_reply": "2021-03-11T21:52:11.214799Z"
    }
   },
   "outputs": [],
   "source": [
    "%matplotlib inline\n",
    "from matplotlib import pyplot as plt\n",
    "import pandas as pd\n",
    "import numpy as np\n",
    "import json\n",
    "import os"
   ]
  },
  {
   "cell_type": "markdown",
   "metadata": {},
   "source": [
    "Load the run information "
   ]
  },
  {
   "cell_type": "code",
   "execution_count": 2,
   "metadata": {
    "execution": {
     "iopub.execute_input": "2021-03-11T21:52:11.217494Z",
     "iopub.status.busy": "2021-03-11T21:52:11.217052Z",
     "iopub.status.idle": "2021-03-11T21:52:11.223987Z",
     "shell.execute_reply": "2021-03-11T21:52:11.223465Z"
    }
   },
   "outputs": [],
   "source": [
    "run_info = pd.read_csv('run_data.csv')"
   ]
  },
  {
   "cell_type": "markdown",
   "metadata": {},
   "source": [
    "Pick one"
   ]
  },
  {
   "cell_type": "code",
   "execution_count": 3,
   "metadata": {
    "execution": {
     "iopub.execute_input": "2021-03-11T21:52:11.228177Z",
     "iopub.status.busy": "2021-03-11T21:52:11.227607Z",
     "iopub.status.idle": "2021-03-11T21:52:11.232895Z",
     "shell.execute_reply": "2021-03-11T21:52:11.233374Z"
    }
   },
   "outputs": [
    {
     "name": "stdout",
     "output_type": "stream",
     "text": [
      "path            runs/reallocate-N100-P4-110321-153204\n",
      "start_time                        2021-03-11 15:32:04\n",
      "num_guesses                                       100\n",
      "num_parallel                                        4\n",
      "retrain_wait                                       20\n",
      "dim                                                 4\n",
      "runtime                                             2\n",
      "runtime_var                                         1\n",
      "opt_delay                                        20.0\n",
      "file                                  reallocation.py\n",
      "worker_count                                        4\n",
      "n_evals                                           100\n",
      "Name: 0, dtype: object\n"
     ]
    }
   ],
   "source": [
    "run_info = run_info.sort_values('start_time', ascending=False).iloc[0]\n",
    "print(run_info)"
   ]
  },
  {
   "cell_type": "markdown",
   "metadata": {},
   "source": [
    "## Load in Result File\n",
    "This file is the list of the quantum chemistry results"
   ]
  },
  {
   "cell_type": "code",
   "execution_count": 4,
   "metadata": {
    "execution": {
     "iopub.execute_input": "2021-03-11T21:52:11.237280Z",
     "iopub.status.busy": "2021-03-11T21:52:11.236811Z",
     "iopub.status.idle": "2021-03-11T21:52:11.253159Z",
     "shell.execute_reply": "2021-03-11T21:52:11.253701Z"
    }
   },
   "outputs": [],
   "source": [
    "result_data = pd.read_json(os.path.join(run_info['path'], 'results.json'), lines=True)"
   ]
  },
  {
   "cell_type": "markdown",
   "metadata": {},
   "source": [
    "Plot the time since first result"
   ]
  },
  {
   "cell_type": "code",
   "execution_count": 5,
   "metadata": {
    "execution": {
     "iopub.execute_input": "2021-03-11T21:52:11.258117Z",
     "iopub.status.busy": "2021-03-11T21:52:11.257612Z",
     "iopub.status.idle": "2021-03-11T21:52:11.259244Z",
     "shell.execute_reply": "2021-03-11T21:52:11.259847Z"
    }
   },
   "outputs": [],
   "source": [
    "result_data['walltime'] = result_data['time_result_received'] - result_data['time_created'].min()"
   ]
  },
  {
   "cell_type": "markdown",
   "metadata": {},
   "source": [
    "Plot the rate at which we aquired new results"
   ]
  },
  {
   "cell_type": "markdown",
   "metadata": {},
   "source": [
    "## Evaluate Runtimes\n",
    "Estimate the runtimes of the QC code"
   ]
  },
  {
   "cell_type": "code",
   "execution_count": 6,
   "metadata": {
    "execution": {
     "iopub.execute_input": "2021-03-11T21:52:11.263619Z",
     "iopub.status.busy": "2021-03-11T21:52:11.262989Z",
     "iopub.status.idle": "2021-03-11T21:52:11.272945Z",
     "shell.execute_reply": "2021-03-11T21:52:11.272509Z"
    }
   },
   "outputs": [
    {
     "data": {
      "text/plain": [
       "count    100.000000\n",
       "mean      11.649713\n",
       "std       14.756839\n",
       "min        0.534747\n",
       "25%        3.007137\n",
       "50%        6.007805\n",
       "75%       14.934254\n",
       "max       91.274221\n",
       "Name: time_running, dtype: float64"
      ]
     },
     "execution_count": 1,
     "metadata": {},
     "output_type": "execute_result"
    }
   ],
   "source": [
    "result_data['time_running'].describe()"
   ]
  },
  {
   "cell_type": "code",
   "execution_count": 7,
   "metadata": {
    "execution": {
     "iopub.execute_input": "2021-03-11T21:52:11.278550Z",
     "iopub.status.busy": "2021-03-11T21:52:11.277974Z",
     "iopub.status.idle": "2021-03-11T21:52:12.003527Z",
     "shell.execute_reply": "2021-03-11T21:52:12.004020Z"
    }
   },
   "outputs": [
    {
     "data": {
      "image/png": "[encoded data removed]",
      "text/plain": [
       "<Figure size 252x180 with 1 Axes>"
      ]
     },
     "metadata": {
      "needs_background": "light"
     },
     "output_type": "display_data"
    }
   ],
   "source": [
    "fig, ax = plt.subplots(figsize=(3.5, 2.5))\n",
    "\n",
    "min_log = np.log10(result_data.time_running).min()\n",
    "max_log = np.log10(result_data.time_running).max()\n",
    "ax.hist(result_data['time_running'], bins=np.logspace(min_log - 0.2, max_log + 0.2, 32))\n",
    "ax.set_xscale('log')\n",
    "\n",
    "ax.set_xlabel('Runtime (s)')\n",
    "ax.set_ylabel('Count')\n",
    "fig.tight_layout()"
   ]
  },
  {
   "cell_type": "markdown",
   "metadata": {},
   "source": [
    "## Plot the Number of Simulations Being Run at a Time\n",
    "We can look at the runtime log to get when simualtions tasks start computing and when they finish"
   ]
  },
  {
   "cell_type": "code",
   "execution_count": 8,
   "metadata": {
    "execution": {
     "iopub.execute_input": "2021-03-11T21:52:12.008726Z",
     "iopub.status.busy": "2021-03-11T21:52:12.008205Z",
     "iopub.status.idle": "2021-03-11T21:52:12.052441Z",
     "shell.execute_reply": "2021-03-11T21:52:12.053063Z"
    }
   },
   "outputs": [],
   "source": [
    "with open(os.path.join(run_info['path'], 'runtime.log')) as fp:\n",
    "    log_data = pd.DataFrame(f.rstrip() for f in fp)\n",
    "log_data.rename(columns={0: 'msg'}, inplace=True)\n",
    "log_data['msg_num'] = log_data['msg'].str.match(r'^[\\d]').cumsum()\n",
    "log_data = log_data.groupby('msg_num').agg({'msg': lambda x: '\\n'.join(x)})"
   ]
  },
  {
   "cell_type": "code",
   "execution_count": 9,
   "metadata": {
    "execution": {
     "iopub.execute_input": "2021-03-11T21:52:12.063467Z",
     "iopub.status.busy": "2021-03-11T21:52:12.062846Z",
     "iopub.status.idle": "2021-03-11T21:52:12.089317Z",
     "shell.execute_reply": "2021-03-11T21:52:12.091943Z"
    }
   },
   "outputs": [],
   "source": [
    "log_data['time'], log_data['module'], log_data['level'], log_data['content'] = zip(*log_data['msg'].str.split(\" - \", 3))"
   ]
  },
  {
   "cell_type": "markdown",
   "metadata": {},
   "source": [
    "Compute the time since first message"
   ]
  },
  {
   "cell_type": "code",
   "execution_count": 10,
   "metadata": {
    "execution": {
     "iopub.execute_input": "2021-03-11T21:52:12.097526Z",
     "iopub.status.busy": "2021-03-11T21:52:12.096932Z",
     "iopub.status.idle": "2021-03-11T21:52:12.193160Z",
     "shell.execute_reply": "2021-03-11T21:52:12.193697Z"
    }
   },
   "outputs": [],
   "source": [
    "log_data['time'] = pd.to_datetime(log_data['time'], utc=False)"
   ]
  },
  {
   "cell_type": "code",
   "execution_count": 11,
   "metadata": {
    "execution": {
     "iopub.execute_input": "2021-03-11T21:52:12.198821Z",
     "iopub.status.busy": "2021-03-11T21:52:12.198120Z",
     "iopub.status.idle": "2021-03-11T21:52:12.230682Z",
     "shell.execute_reply": "2021-03-11T21:52:12.231286Z"
    }
   },
   "outputs": [],
   "source": [
    "log_data['walltime'] = (log_data['time'] - log_data['time'].iloc[0]).apply(lambda x: x.total_seconds())"
   ]
  },
  {
   "cell_type": "code",
   "execution_count": 12,
   "metadata": {
    "execution": {
     "iopub.execute_input": "2021-03-11T21:52:12.234881Z",
     "iopub.status.busy": "2021-03-11T21:52:12.234439Z",
     "iopub.status.idle": "2021-03-11T21:52:12.236244Z",
     "shell.execute_reply": "2021-03-11T21:52:12.236777Z"
    }
   },
   "outputs": [],
   "source": [
    "start_time = log_data['time'].iloc[0].timestamp()"
   ]
  },
  {
   "cell_type": "markdown",
   "metadata": {},
   "source": [
    "Find the events related to calculations starting and finishing"
   ]
  },
  {
   "cell_type": "code",
   "execution_count": 13,
   "metadata": {
    "execution": {
     "iopub.execute_input": "2021-03-11T21:52:12.240417Z",
     "iopub.status.busy": "2021-03-11T21:52:12.239979Z",
     "iopub.status.idle": "2021-03-11T21:52:12.242120Z",
     "shell.execute_reply": "2021-03-11T21:52:12.241663Z"
    }
   },
   "outputs": [],
   "source": [
    "start_time = result_data['time_created'].min()"
   ]
  },
  {
   "cell_type": "code",
   "execution_count": 14,
   "metadata": {
    "execution": {
     "iopub.execute_input": "2021-03-11T21:52:12.247800Z",
     "iopub.status.busy": "2021-03-11T21:52:12.247276Z",
     "iopub.status.idle": "2021-03-11T21:52:12.250361Z",
     "shell.execute_reply": "2021-03-11T21:52:12.250937Z"
    }
   },
   "outputs": [],
   "source": [
    "events = [{'time': 0, 'active_delta': 0}]\n",
    "events.extend({'time': t - start_time, 'active_delta': -1} for t in \n",
    "          (result_data['time_compute_started'] + result_data['time_running']))\n",
    "events.extend([{'time': t - start_time, 'active_delta': 1} for t in result_data['time_compute_started']])\n",
    "events = pd.DataFrame(events)"
   ]
  },
  {
   "cell_type": "markdown",
   "metadata": {},
   "source": [
    "Make the results easier to plot"
   ]
  },
  {
   "cell_type": "code",
   "execution_count": 15,
   "metadata": {
    "execution": {
     "iopub.execute_input": "2021-03-11T21:52:12.254641Z",
     "iopub.status.busy": "2021-03-11T21:52:12.254184Z",
     "iopub.status.idle": "2021-03-11T21:52:12.256260Z",
     "shell.execute_reply": "2021-03-11T21:52:12.256733Z"
    }
   },
   "outputs": [],
   "source": [
    "events.sort_values('time', ascending=True, inplace=True)"
   ]
  },
  {
   "cell_type": "code",
   "execution_count": 16,
   "metadata": {
    "execution": {
     "iopub.execute_input": "2021-03-11T21:52:12.262650Z",
     "iopub.status.busy": "2021-03-11T21:52:12.261824Z",
     "iopub.status.idle": "2021-03-11T21:52:12.263191Z",
     "shell.execute_reply": "2021-03-11T21:52:12.263731Z"
    }
   },
   "outputs": [],
   "source": [
    "events['num_active'] = events['active_delta'].cumsum()"
   ]
  },
  {
   "cell_type": "markdown",
   "metadata": {},
   "source": [
    "Compute worker utilization"
   ]
  },
  {
   "cell_type": "code",
   "execution_count": 17,
   "metadata": {
    "execution": {
     "iopub.execute_input": "2021-03-11T21:52:12.268081Z",
     "iopub.status.busy": "2021-03-11T21:52:12.267634Z",
     "iopub.status.idle": "2021-03-11T21:52:12.270839Z",
     "shell.execute_reply": "2021-03-11T21:52:12.271197Z"
    }
   },
   "outputs": [],
   "source": [
    "events['queue_length'] = events['num_active']"
   ]
  },
  {
   "cell_type": "code",
   "execution_count": 18,
   "metadata": {
    "execution": {
     "iopub.execute_input": "2021-03-11T21:52:12.276026Z",
     "iopub.status.busy": "2021-03-11T21:52:12.275565Z",
     "iopub.status.idle": "2021-03-11T21:52:12.277367Z",
     "shell.execute_reply": "2021-03-11T21:52:12.277902Z"
    }
   },
   "outputs": [],
   "source": [
    "events['utilization'] = np.clip(events['queue_length'] / run_info['worker_count'], 0, 1)"
   ]
  },
  {
   "cell_type": "code",
   "execution_count": 19,
   "metadata": {
    "execution": {
     "iopub.execute_input": "2021-03-11T21:52:12.280054Z",
     "iopub.status.busy": "2021-03-11T21:52:12.279606Z",
     "iopub.status.idle": "2021-03-11T21:52:12.283982Z",
     "shell.execute_reply": "2021-03-11T21:52:12.284451Z"
    }
   },
   "outputs": [],
   "source": [
    "utilization_int = (np.diff(events['time'].values) * events['utilization'].values[:-1]).cumsum()"
   ]
  },
  {
   "cell_type": "markdown",
   "metadata": {},
   "source": [
    "Compute the cumulative utilization"
   ]
  },
  {
   "cell_type": "code",
   "execution_count": 20,
   "metadata": {
    "execution": {
     "iopub.execute_input": "2021-03-11T21:52:12.287636Z",
     "iopub.status.busy": "2021-03-11T21:52:12.287176Z",
     "iopub.status.idle": "2021-03-11T21:52:12.292286Z",
     "shell.execute_reply": "2021-03-11T21:52:12.291779Z"
    }
   },
   "outputs": [],
   "source": [
    "def cumulative_utilization(time: float) -> float:\n",
    "    \"\"\"Compute average utilization over time\"\"\"\n",
    "    # Integrating knowing that we have a piecewise functions\n",
    "    # Integrate over all of the pieces before the current piece\n",
    "    past_events = events[events.time <= time]\n",
    "    if len(past_events) <= 1:\n",
    "        return 0.0\n",
    "    past_util = (np.diff(past_events['time'].values) * past_events['utilization'].values[:-1]).sum()\n",
    "    \n",
    "    # Integrate the current piece\n",
    "    current_event = past_events.iloc[-1]\n",
    "    current_util = (time - current_event.time) * current_event.utilization\n",
    "    return (past_util + current_util) / time"
   ]
  },
  {
   "cell_type": "code",
   "execution_count": 21,
   "metadata": {
    "execution": {
     "iopub.execute_input": "2021-03-11T21:52:12.296331Z",
     "iopub.status.busy": "2021-03-11T21:52:12.295727Z",
     "iopub.status.idle": "2021-03-11T21:52:13.082148Z",
     "shell.execute_reply": "2021-03-11T21:52:13.082646Z"
    }
   },
   "outputs": [
    {
     "name": "stdout",
     "output_type": "stream",
     "text": [
      "CPU times: user 779 ms, sys: 0 ns, total: 779 ms\n",
      "Wall time: 781 ms\n"
     ]
    }
   ],
   "source": [
    "%%time\n",
    "times = np.linspace(0, events.time.max(), 1024)\n",
    "utilization = np.array([cumulative_utilization(x) for x in times])"
   ]
  },
  {
   "cell_type": "markdown",
   "metadata": {},
   "source": [
    "Plot the queue length and utilization"
   ]
  },
  {
   "cell_type": "code",
   "execution_count": 22,
   "metadata": {
    "execution": {
     "iopub.execute_input": "2021-03-11T21:52:13.101874Z",
     "iopub.status.busy": "2021-03-11T21:52:13.099865Z",
     "iopub.status.idle": "2021-03-11T21:52:13.466759Z",
     "shell.execute_reply": "2021-03-11T21:52:13.467361Z"
    }
   },
   "outputs": [
    {
     "data": {
      "image/png": "[encoded data removed]",
      "text/plain": [
       "<Figure size 468x180 with 2 Axes>"
      ]
     },
     "metadata": {
      "needs_background": "light"
     },
     "output_type": "display_data"
    }
   ],
   "source": [
    "fig, axs = plt.subplots(1, 2, figsize=(6.5, 2.5))\n",
    "\n",
    "# Plot the queue length\n",
    "ax = axs[0]\n",
    "ax.step(events['time'], events['utilization'] * 100, where='post')\n",
    "ax.set_xlabel('Walltime (s)')\n",
    "ax.set_ylabel('Utilization (%)')\n",
    "ax.set_ylim(0, 105)\n",
    "\n",
    "ax = axs[1]\n",
    "ax.plot(times, utilization * 100)\n",
    "ax.set_xlabel('Walltime (s)')\n",
    "ax.set_ylabel('Cumulative Util. (%)')\n",
    "ax.set_ylim(0, 105)\n",
    "\n",
    "fig.tight_layout()\n",
    "fig.savefig('utilization.png', dpi=320)"
   ]
  },
  {
   "cell_type": "markdown",
   "metadata": {},
   "source": [
    "## Plot Assignment to Different \"Nodes\"\n",
    "See how work is distributed"
   ]
  },
  {
   "cell_type": "code",
   "execution_count": 23,
   "metadata": {
    "execution": {
     "iopub.execute_input": "2021-03-11T21:52:13.470308Z",
     "iopub.status.busy": "2021-03-11T21:52:13.469701Z",
     "iopub.status.idle": "2021-03-11T21:52:13.483541Z",
     "shell.execute_reply": "2021-03-11T21:52:13.482898Z"
    }
   },
   "outputs": [],
   "source": [
    "retrain_data = pd.read_json(os.path.join(run_info[\"path\"], \"retrain.json\"), lines=True)"
   ]
  },
  {
   "cell_type": "code",
   "execution_count": 24,
   "metadata": {
    "execution": {
     "iopub.execute_input": "2021-03-11T21:52:13.486185Z",
     "iopub.status.busy": "2021-03-11T21:52:13.485687Z",
     "iopub.status.idle": "2021-03-11T21:52:14.075480Z",
     "shell.execute_reply": "2021-03-11T21:52:14.074964Z"
    }
   },
   "outputs": [
    {
     "data": {
      "image/png": "[encoded data removed]",
      "text/plain": [
       "<Figure size 252x180 with 1 Axes>"
      ]
     },
     "metadata": {
      "needs_background": "light"
     },
     "output_type": "display_data"
    }
   ],
   "source": [
    "fig, ax = plt.subplots(figsize=(3.5, 2.5))\n",
    "\n",
    "for label, data in zip(['ML', 'SIM'], [retrain_data, result_data]):\n",
    "    data[\"worker\"] = data['task_info'].apply(lambda x: int(x[\"PARSL_WORKER_RANK\"]))\n",
    "    ax.barh(y=data[\"worker\"], width=data[\"time_running\"], left=data[\"time_compute_started\"] - start_time, label=label, edgecolor='k')\n",
    "    \n",
    "ax.set_yticks(np.arange(data[\"worker\"].max() + 1))\n",
    "ax.set_ylabel('Node')\n",
    "\n",
    "ax.set_xlabel('Time (s)')\n",
    "ax.legend()\n",
    "fig.tight_layout()\n",
    "fig.savefig('figures/allocation.png', dpi=320)"
   ]
  },
  {
   "cell_type": "code",
   "execution_count": null,
   "metadata": {},
   "outputs": [],
   "source": []
  }
 ],
 "metadata": {
  "kernelspec": {
   "display_name": "Python 3",
   "language": "python",
   "name": "python3"
  },
  "language_info": {
   "codemirror_mode": {
    "name": "ipython",
    "version": 3
   },
   "file_extension": ".py",
   "mimetype": "text/x-python",
   "name": "python",
   "nbconvert_exporter": "python",
   "pygments_lexer": "ipython3",
   "version": "3.7.9"
  }
 },
 "nbformat": 4,
 "nbformat_minor": 4
}
