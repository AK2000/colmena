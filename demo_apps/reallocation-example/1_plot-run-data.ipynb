{
 "cells": [
  {
   "cell_type": "markdown",
   "metadata": {},
   "source": [
    "# Plot Run Data\n",
    "This notebook plots the performance of a run to assess the optimization performance and system utilization."
   ]
  },
  {
   "cell_type": "code",
   "execution_count": 1,
   "metadata": {
    "execution": {
     "iopub.execute_input": "2021-09-20T15:07:49.454333Z",
     "iopub.status.busy": "2021-09-20T15:07:49.453923Z",
     "iopub.status.idle": "2021-09-20T15:07:49.672887Z",
     "shell.execute_reply": "2021-09-20T15:07:49.672558Z"
    }
   },
   "outputs": [],
   "source": [
    "%matplotlib inline\n",
    "from matplotlib import pyplot as plt\n",
    "import pandas as pd\n",
    "import numpy as np\n",
    "import json\n",
    "import os"
   ]
  },
  {
   "cell_type": "markdown",
   "metadata": {},
   "source": [
    "Load the run information "
   ]
  },
  {
   "cell_type": "code",
   "execution_count": 2,
   "metadata": {
    "execution": {
     "iopub.execute_input": "2021-09-20T15:07:49.695050Z",
     "iopub.status.busy": "2021-09-20T15:07:49.694763Z",
     "iopub.status.idle": "2021-09-20T15:07:49.695774Z",
     "shell.execute_reply": "2021-09-20T15:07:49.695535Z"
    }
   },
   "outputs": [],
   "source": [
    "run_info = pd.read_csv('run_data.csv')"
   ]
  },
  {
   "cell_type": "markdown",
   "metadata": {},
   "source": [
    "Pick one"
   ]
  },
  {
   "cell_type": "code",
   "execution_count": 3,
   "metadata": {
    "execution": {
     "iopub.execute_input": "2021-09-20T15:07:49.698372Z",
     "iopub.status.busy": "2021-09-20T15:07:49.698103Z",
     "iopub.status.idle": "2021-09-20T15:07:49.699601Z",
     "shell.execute_reply": "2021-09-20T15:07:49.699821Z"
    }
   },
   "outputs": [
    {
     "name": "stdout",
     "output_type": "stream",
     "text": [
      "path            runs/reallocate-N100-P4-200921-103647\n",
      "start_time                        2021-09-20 10:36:47\n",
      "num_guesses                                       100\n",
      "num_parallel                                        4\n",
      "retrain_wait                                       20\n",
      "dim                                                 4\n",
      "runtime                                             2\n",
      "runtime_var                                         1\n",
      "opt_delay                                        20.0\n",
      "file                                  reallocation.py\n",
      "worker_count                                        4\n",
      "n_evals                                           100\n",
      "Name: 0, dtype: object\n"
     ]
    }
   ],
   "source": [
    "run_info = run_info.sort_values('start_time', ascending=False).iloc[0]\n",
    "print(run_info)"
   ]
  },
  {
   "cell_type": "markdown",
   "metadata": {},
   "source": [
    "## Load in Result File\n",
    "This file is the list of the quantum chemistry results"
   ]
  },
  {
   "cell_type": "code",
   "execution_count": 4,
   "metadata": {
    "execution": {
     "iopub.execute_input": "2021-09-20T15:07:49.701706Z",
     "iopub.status.busy": "2021-09-20T15:07:49.701442Z",
     "iopub.status.idle": "2021-09-20T15:07:49.708063Z",
     "shell.execute_reply": "2021-09-20T15:07:49.707833Z"
    }
   },
   "outputs": [],
   "source": [
    "result_data = pd.read_json(os.path.join(run_info['path'], 'results.json'), lines=True)"
   ]
  },
  {
   "cell_type": "markdown",
   "metadata": {},
   "source": [
    "Plot the time since first result"
   ]
  },
  {
   "cell_type": "code",
   "execution_count": 5,
   "metadata": {
    "execution": {
     "iopub.execute_input": "2021-09-20T15:07:49.710285Z",
     "iopub.status.busy": "2021-09-20T15:07:49.710015Z",
     "iopub.status.idle": "2021-09-20T15:07:49.711349Z",
     "shell.execute_reply": "2021-09-20T15:07:49.711122Z"
    }
   },
   "outputs": [],
   "source": [
    "result_data['walltime'] = result_data['time_result_received'] - result_data['time_created'].min()"
   ]
  },
  {
   "cell_type": "markdown",
   "metadata": {},
   "source": [
    "Plot the rate at which we aquired new results"
   ]
  },
  {
   "cell_type": "markdown",
   "metadata": {},
   "source": [
    "## Evaluate Runtimes\n",
    "Estimate the runtimes of the QC code"
   ]
  },
  {
   "cell_type": "code",
   "execution_count": 6,
   "metadata": {
    "execution": {
     "iopub.execute_input": "2021-09-20T15:07:49.715171Z",
     "iopub.status.busy": "2021-09-20T15:07:49.713169Z",
     "iopub.status.idle": "2021-09-20T15:07:49.716658Z",
     "shell.execute_reply": "2021-09-20T15:07:49.716407Z"
    }
   },
   "outputs": [
    {
     "data": {
      "text/plain": [
       "count    100.000000\n",
       "mean      12.162368\n",
       "std       14.045638\n",
       "min        0.619143\n",
       "25%        3.971835\n",
       "50%        7.274442\n",
       "75%       14.405163\n",
       "max       75.226253\n",
       "Name: time_running, dtype: float64"
      ]
     },
     "execution_count": 6,
     "metadata": {},
     "output_type": "execute_result"
    }
   ],
   "source": [
    "result_data['time_running'].describe()"
   ]
  },
  {
   "cell_type": "code",
   "execution_count": 7,
   "metadata": {
    "execution": {
     "iopub.execute_input": "2021-09-20T15:07:49.724504Z",
     "iopub.status.busy": "2021-09-20T15:07:49.721277Z",
     "iopub.status.idle": "2021-09-20T15:07:50.011388Z",
     "shell.execute_reply": "2021-09-20T15:07:50.010964Z"
    }
   },
   "outputs": [
    {
     "data": {
      "image/png": "[encoded data removed]",
      "text/plain": [
       "<Figure size 252x180 with 1 Axes>"
      ]
     },
     "metadata": {
      "needs_background": "light"
     },
     "output_type": "display_data"
    }
   ],
   "source": [
    "fig, ax = plt.subplots(figsize=(3.5, 2.5))\n",
    "\n",
    "min_log = np.log10(result_data.time_running).min()\n",
    "max_log = np.log10(result_data.time_running).max()\n",
    "ax.hist(result_data['time_running'], bins=np.logspace(min_log - 0.2, max_log + 0.2, 32))\n",
    "ax.set_xscale('log')\n",
    "\n",
    "ax.set_xlabel('Runtime (s)')\n",
    "ax.set_ylabel('Count')\n",
    "fig.tight_layout()"
   ]
  },
  {
   "cell_type": "markdown",
   "metadata": {},
   "source": [
    "## Evaluate Performance\n",
    "See if we are getting better over time"
   ]
  },
  {
   "cell_type": "code",
   "execution_count": 8,
   "metadata": {
    "execution": {
     "iopub.execute_input": "2021-09-20T15:07:50.016157Z",
     "iopub.status.busy": "2021-09-20T15:07:50.015796Z",
     "iopub.status.idle": "2021-09-20T15:07:50.017051Z",
     "shell.execute_reply": "2021-09-20T15:07:50.017337Z"
    }
   },
   "outputs": [
    {
     "data": {
      "text/plain": [
       "count    100.000000\n",
       "mean      12.162368\n",
       "std       14.045638\n",
       "min        0.619143\n",
       "25%        3.971835\n",
       "50%        7.274442\n",
       "75%       14.405163\n",
       "max       75.226253\n",
       "Name: time_running, dtype: float64"
      ]
     },
     "execution_count": 8,
     "metadata": {},
     "output_type": "execute_result"
    }
   ],
   "source": [
    "result_data['time_running'].describe()"
   ]
  },
  {
   "cell_type": "code",
   "execution_count": 9,
   "metadata": {
    "execution": {
     "iopub.execute_input": "2021-09-20T15:07:50.033239Z",
     "iopub.status.busy": "2021-09-20T15:07:50.029020Z",
     "iopub.status.idle": "2021-09-20T15:07:50.080855Z",
     "shell.execute_reply": "2021-09-20T15:07:50.080418Z"
    }
   },
   "outputs": [
    {
     "data": {
      "image/png": "[encoded data removed]",
      "text/plain": [
       "<Figure size 252x180 with 1 Axes>"
      ]
     },
     "metadata": {
      "needs_background": "light"
     },
     "output_type": "display_data"
    }
   ],
   "source": [
    "fig, ax = plt.subplots(figsize=(3.5, 2.5))\n",
    "\n",
    "ax.scatter(result_data['walltime'], result_data['value'])\n",
    "\n",
    "ax.set_xlabel('Runtime (s)')\n",
    "ax.set_ylabel('Value')\n",
    "fig.tight_layout()"
   ]
  },
  {
   "cell_type": "markdown",
   "metadata": {},
   "source": [
    "## Plot the Number of Simulations Being Run at a Time\n",
    "We can look at the runtime log to get when simualtions tasks start computing and when they finish"
   ]
  },
  {
   "cell_type": "code",
   "execution_count": 10,
   "metadata": {
    "execution": {
     "iopub.execute_input": "2021-09-20T15:07:50.087291Z",
     "iopub.status.busy": "2021-09-20T15:07:50.086813Z",
     "iopub.status.idle": "2021-09-20T15:07:50.095182Z",
     "shell.execute_reply": "2021-09-20T15:07:50.094881Z"
    }
   },
   "outputs": [],
   "source": [
    "with open(os.path.join(run_info['path'], 'runtime.log')) as fp:\n",
    "    log_data = pd.DataFrame(f.rstrip() for f in fp)\n",
    "log_data.rename(columns={0: 'msg'}, inplace=True)\n",
    "log_data['msg_num'] = log_data['msg'].str.match(r'^[\\d]').cumsum()\n",
    "log_data = log_data.groupby('msg_num').agg({'msg': lambda x: '\\n'.join(x)})"
   ]
  },
  {
   "cell_type": "code",
   "execution_count": 11,
   "metadata": {
    "execution": {
     "iopub.execute_input": "2021-09-20T15:07:50.100191Z",
     "iopub.status.busy": "2021-09-20T15:07:50.099834Z",
     "iopub.status.idle": "2021-09-20T15:07:50.101361Z",
     "shell.execute_reply": "2021-09-20T15:07:50.101064Z"
    }
   },
   "outputs": [],
   "source": [
    "log_data['time'], log_data['module'], log_data['level'], log_data['content'] = zip(*log_data['msg'].str.split(\" - \", 3))"
   ]
  },
  {
   "cell_type": "markdown",
   "metadata": {},
   "source": [
    "Compute the time since first message"
   ]
  },
  {
   "cell_type": "code",
   "execution_count": 12,
   "metadata": {
    "execution": {
     "iopub.execute_input": "2021-09-20T15:07:50.113695Z",
     "iopub.status.busy": "2021-09-20T15:07:50.108584Z",
     "iopub.status.idle": "2021-09-20T15:07:50.134452Z",
     "shell.execute_reply": "2021-09-20T15:07:50.134150Z"
    }
   },
   "outputs": [],
   "source": [
    "log_data['time'] = pd.to_datetime(log_data['time'], utc=False)"
   ]
  },
  {
   "cell_type": "code",
   "execution_count": 13,
   "metadata": {
    "execution": {
     "iopub.execute_input": "2021-09-20T15:07:50.145917Z",
     "iopub.status.busy": "2021-09-20T15:07:50.145635Z",
     "iopub.status.idle": "2021-09-20T15:07:50.147265Z",
     "shell.execute_reply": "2021-09-20T15:07:50.146930Z"
    }
   },
   "outputs": [],
   "source": [
    "log_data['walltime'] = (log_data['time'] - log_data['time'].iloc[0]).apply(lambda x: x.total_seconds())"
   ]
  },
  {
   "cell_type": "code",
   "execution_count": 14,
   "metadata": {
    "execution": {
     "iopub.execute_input": "2021-09-20T15:07:50.149288Z",
     "iopub.status.busy": "2021-09-20T15:07:50.148935Z",
     "iopub.status.idle": "2021-09-20T15:07:50.150173Z",
     "shell.execute_reply": "2021-09-20T15:07:50.150456Z"
    }
   },
   "outputs": [],
   "source": [
    "start_time = log_data['time'].iloc[0].timestamp()"
   ]
  },
  {
   "cell_type": "markdown",
   "metadata": {},
   "source": [
    "Find the events related to calculations starting and finishing"
   ]
  },
  {
   "cell_type": "code",
   "execution_count": 15,
   "metadata": {
    "execution": {
     "iopub.execute_input": "2021-09-20T15:07:50.152502Z",
     "iopub.status.busy": "2021-09-20T15:07:50.152163Z",
     "iopub.status.idle": "2021-09-20T15:07:50.153442Z",
     "shell.execute_reply": "2021-09-20T15:07:50.153789Z"
    }
   },
   "outputs": [],
   "source": [
    "start_time = result_data['time_created'].min()"
   ]
  },
  {
   "cell_type": "code",
   "execution_count": 16,
   "metadata": {
    "execution": {
     "iopub.execute_input": "2021-09-20T15:07:50.157058Z",
     "iopub.status.busy": "2021-09-20T15:07:50.156619Z",
     "iopub.status.idle": "2021-09-20T15:07:50.158389Z",
     "shell.execute_reply": "2021-09-20T15:07:50.157975Z"
    }
   },
   "outputs": [],
   "source": [
    "events = [{'time': 0, 'active_delta': 0}]\n",
    "events.extend({'time': t - start_time, 'active_delta': -1} for t in \n",
    "          (result_data['time_compute_started'] + result_data['time_running']))\n",
    "events.extend([{'time': t - start_time, 'active_delta': 1} for t in result_data['time_compute_started']])\n",
    "events = pd.DataFrame(events)"
   ]
  },
  {
   "cell_type": "markdown",
   "metadata": {},
   "source": [
    "Make the results easier to plot"
   ]
  },
  {
   "cell_type": "code",
   "execution_count": 17,
   "metadata": {
    "execution": {
     "iopub.execute_input": "2021-09-20T15:07:50.160506Z",
     "iopub.status.busy": "2021-09-20T15:07:50.160186Z",
     "iopub.status.idle": "2021-09-20T15:07:50.161823Z",
     "shell.execute_reply": "2021-09-20T15:07:50.161446Z"
    }
   },
   "outputs": [],
   "source": [
    "events.sort_values('time', ascending=True, inplace=True)"
   ]
  },
  {
   "cell_type": "code",
   "execution_count": 18,
   "metadata": {
    "execution": {
     "iopub.execute_input": "2021-09-20T15:07:50.164193Z",
     "iopub.status.busy": "2021-09-20T15:07:50.163764Z",
     "iopub.status.idle": "2021-09-20T15:07:50.165478Z",
     "shell.execute_reply": "2021-09-20T15:07:50.165119Z"
    }
   },
   "outputs": [],
   "source": [
    "events['num_active'] = events['active_delta'].cumsum()"
   ]
  },
  {
   "cell_type": "markdown",
   "metadata": {},
   "source": [
    "Compute worker utilization"
   ]
  },
  {
   "cell_type": "code",
   "execution_count": 19,
   "metadata": {
    "execution": {
     "iopub.execute_input": "2021-09-20T15:07:50.168086Z",
     "iopub.status.busy": "2021-09-20T15:07:50.167647Z",
     "iopub.status.idle": "2021-09-20T15:07:50.168915Z",
     "shell.execute_reply": "2021-09-20T15:07:50.168663Z"
    }
   },
   "outputs": [],
   "source": [
    "events['queue_length'] = events['num_active']"
   ]
  },
  {
   "cell_type": "code",
   "execution_count": 20,
   "metadata": {
    "execution": {
     "iopub.execute_input": "2021-09-20T15:07:50.171420Z",
     "iopub.status.busy": "2021-09-20T15:07:50.171154Z",
     "iopub.status.idle": "2021-09-20T15:07:50.172457Z",
     "shell.execute_reply": "2021-09-20T15:07:50.172201Z"
    }
   },
   "outputs": [],
   "source": [
    "events['utilization'] = np.clip(events['queue_length'] / run_info['worker_count'], 0, 1)"
   ]
  },
  {
   "cell_type": "code",
   "execution_count": 21,
   "metadata": {
    "execution": {
     "iopub.execute_input": "2021-09-20T15:07:50.174337Z",
     "iopub.status.busy": "2021-09-20T15:07:50.174012Z",
     "iopub.status.idle": "2021-09-20T15:07:50.175038Z",
     "shell.execute_reply": "2021-09-20T15:07:50.175235Z"
    }
   },
   "outputs": [],
   "source": [
    "utilization_int = (np.diff(events['time'].values) * events['utilization'].values[:-1]).cumsum()"
   ]
  },
  {
   "cell_type": "markdown",
   "metadata": {},
   "source": [
    "Compute the cumulative utilization"
   ]
  },
  {
   "cell_type": "code",
   "execution_count": 22,
   "metadata": {
    "execution": {
     "iopub.execute_input": "2021-09-20T15:07:50.177941Z",
     "iopub.status.busy": "2021-09-20T15:07:50.177524Z",
     "iopub.status.idle": "2021-09-20T15:07:50.178582Z",
     "shell.execute_reply": "2021-09-20T15:07:50.178778Z"
    }
   },
   "outputs": [],
   "source": [
    "def cumulative_utilization(time: float) -> float:\n",
    "    \"\"\"Compute average utilization over time\"\"\"\n",
    "    # Integrating knowing that we have a piecewise functions\n",
    "    # Integrate over all of the pieces before the current piece\n",
    "    past_events = events[events.time <= time]\n",
    "    if len(past_events) <= 1:\n",
    "        return 0.0\n",
    "    past_util = (np.diff(past_events['time'].values) * past_events['utilization'].values[:-1]).sum()\n",
    "    \n",
    "    # Integrate the current piece\n",
    "    current_event = past_events.iloc[-1]\n",
    "    current_util = (time - current_event.time) * current_event.utilization\n",
    "    return (past_util + current_util) / time"
   ]
  },
  {
   "cell_type": "code",
   "execution_count": 23,
   "metadata": {
    "execution": {
     "iopub.execute_input": "2021-09-20T15:07:50.448299Z",
     "iopub.status.busy": "2021-09-20T15:07:50.447850Z",
     "iopub.status.idle": "2021-09-20T15:07:50.449943Z",
     "shell.execute_reply": "2021-09-20T15:07:50.449586Z"
    }
   },
   "outputs": [
    {
     "name": "stdout",
     "output_type": "stream",
     "text": [
      "CPU times: user 273 ms, sys: 0 ns, total: 273 ms\n",
      "Wall time: 267 ms\n"
     ]
    }
   ],
   "source": [
    "%%time\n",
    "times = np.linspace(0, events.time.max(), 1024)\n",
    "utilization = np.array([cumulative_utilization(x) for x in times])"
   ]
  },
  {
   "cell_type": "markdown",
   "metadata": {},
   "source": [
    "Plot the queue length and utilization"
   ]
  },
  {
   "cell_type": "code",
   "execution_count": 24,
   "metadata": {
    "execution": {
     "iopub.execute_input": "2021-09-20T15:07:50.467272Z",
     "iopub.status.busy": "2021-09-20T15:07:50.466506Z",
     "iopub.status.idle": "2021-09-20T15:07:50.637282Z",
     "shell.execute_reply": "2021-09-20T15:07:50.636916Z"
    }
   },
   "outputs": [
    {
     "data": {
      "image/png": "[encoded data removed]",
      "text/plain": [
       "<Figure size 468x180 with 2 Axes>"
      ]
     },
     "metadata": {
      "needs_background": "light"
     },
     "output_type": "display_data"
    }
   ],
   "source": [
    "fig, axs = plt.subplots(1, 2, figsize=(6.5, 2.5))\n",
    "\n",
    "# Plot the queue length\n",
    "ax = axs[0]\n",
    "ax.step(events['time'], events['utilization'] * 100, where='post')\n",
    "ax.set_xlabel('Walltime (s)')\n",
    "ax.set_ylabel('Utilization (%)')\n",
    "ax.set_ylim(0, 105)\n",
    "\n",
    "ax = axs[1]\n",
    "ax.plot(times, utilization * 100)\n",
    "ax.set_xlabel('Walltime (s)')\n",
    "ax.set_ylabel('Cumulative Util. (%)')\n",
    "ax.set_ylim(0, 105)\n",
    "\n",
    "fig.tight_layout()\n",
    "fig.savefig('utilization.png', dpi=320)"
   ]
  },
  {
   "cell_type": "markdown",
   "metadata": {},
   "source": [
    "## Plot Assignment to Different \"Nodes\"\n",
    "See how work is distributed"
   ]
  },
  {
   "cell_type": "code",
   "execution_count": 25,
   "metadata": {
    "execution": {
     "iopub.execute_input": "2021-09-20T15:07:50.644383Z",
     "iopub.status.busy": "2021-09-20T15:07:50.644027Z",
     "iopub.status.idle": "2021-09-20T15:07:50.645746Z",
     "shell.execute_reply": "2021-09-20T15:07:50.645446Z"
    }
   },
   "outputs": [],
   "source": [
    "retrain_data = pd.read_json(os.path.join(run_info[\"path\"], \"retrain.json\"), lines=True)"
   ]
  },
  {
   "cell_type": "code",
   "execution_count": 26,
   "metadata": {
    "execution": {
     "iopub.execute_input": "2021-09-20T15:07:50.658443Z",
     "iopub.status.busy": "2021-09-20T15:07:50.658080Z",
     "iopub.status.idle": "2021-09-20T15:07:50.912895Z",
     "shell.execute_reply": "2021-09-20T15:07:50.912576Z"
    }
   },
   "outputs": [
    {
     "data": {
      "image/png": "[encoded data removed]",
      "text/plain": [
       "<Figure size 252x180 with 1 Axes>"
      ]
     },
     "metadata": {
      "needs_background": "light"
     },
     "output_type": "display_data"
    }
   ],
   "source": [
    "fig, ax = plt.subplots(figsize=(3.5, 2.5))\n",
    "\n",
    "for label, data in zip(['ML', 'SIM'], [retrain_data, result_data]):\n",
    "    data[\"worker\"] = data['task_info'].apply(lambda x: int(x[\"PARSL_WORKER_RANK\"]))\n",
    "    ax.barh(y=data[\"worker\"], width=data[\"time_running\"], left=data[\"time_compute_started\"] - start_time, label=label, edgecolor='k')\n",
    "    \n",
    "ax.set_yticks(np.arange(data[\"worker\"].max() + 1))\n",
    "ax.set_ylabel('Node')\n",
    "\n",
    "ax.set_xlabel('Time (s)')\n",
    "ax.legend()\n",
    "fig.tight_layout()\n",
    "fig.savefig('figures/allocation.png', dpi=320)"
   ]
  },
  {
   "cell_type": "code",
   "execution_count": null,
   "metadata": {},
   "outputs": [],
   "source": []
  }
 ],
 "metadata": {
  "kernelspec": {
   "display_name": "Python 3",
   "language": "python",
   "name": "python3"
  },
  "language_info": {
   "codemirror_mode": {
    "name": "ipython",
    "version": 3
   },
   "file_extension": ".py",
   "mimetype": "text/x-python",
   "name": "python",
   "nbconvert_exporter": "python",
   "pygments_lexer": "ipython3",
   "version": "3.7.11"
  }
 },
 "nbformat": 4,
 "nbformat_minor": 4
}
