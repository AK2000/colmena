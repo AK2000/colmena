{
 "cells": [
  {
   "cell_type": "markdown",
   "metadata": {},
   "source": [
    "# Validate the NWChem Atomization Energies\n",
    "We want to make sure they agree with the Gaussian Efforts"
   ]
  },
  {
   "cell_type": "code",
   "execution_count": 1,
   "metadata": {},
   "outputs": [
    {
     "name": "stderr",
     "output_type": "stream",
     "text": [
      "/home/wardlt/miniconda3/envs/colmena_full/lib/python3.7/site-packages/openbabel/__init__.py:14: UserWarning: \"import openbabel\" is deprecated, instead use \"from openbabel import openbabel\"\n",
      "  warnings.warn('\"import openbabel\" is deprecated, instead use \"from openbabel import openbabel\"')\n"
     ]
    }
   ],
   "source": [
    "%matplotlib inline\n",
    "from matplotlib import pyplot as plt\n",
    "from moldesign.simulate import relax_structure, compute_reference_energy, subtract_reference_energies\n",
    "from moldesign.simulate.thermo import compute_zpe\n",
    "from qcelemental.models.procedures import QCInputSpecification, Model\n",
    "from qcelemental.models import Molecule\n",
    "from qcengine.util import compute_wrapper\n",
    "from qcengine import compute\n",
    "from tqdm import tqdm\n",
    "import pandas as pd\n",
    "import numpy as np\n",
    "import os"
   ]
  },
  {
   "cell_type": "markdown",
   "metadata": {},
   "source": [
    "Reference data"
   ]
  },
  {
   "cell_type": "code",
   "execution_count": 2,
   "metadata": {},
   "outputs": [],
   "source": [
    "multiplicity = {'H': 2, 'He': 1, 'Li': 2, 'C': 3, 'N': 4, 'O': 3, 'F': 2}"
   ]
  },
  {
   "cell_type": "code",
   "execution_count": 3,
   "metadata": {},
   "outputs": [],
   "source": [
    "qm9_ref_energies = {'C': -37.846772, 'H': -0.500273, 'O':  -75.064579, \n",
    "                    'N': -54.583861, 'Li': -7.491464, 'F':  -99.718730}"
   ]
  },
  {
   "cell_type": "markdown",
   "metadata": {},
   "source": [
    "## Load QM9 Data\n",
    "It is the training data for our MPNN"
   ]
  },
  {
   "cell_type": "code",
   "execution_count": 4,
   "metadata": {},
   "outputs": [],
   "source": [
    "qm9 = pd.concat(pd.read_csv(os.path.join('..', '..', '..', 'notebooks', 'mpnn-atomization-energy', f'{x}.csv'))\n",
    "                for x in ['train', 'test', 'valid'])"
   ]
  },
  {
   "cell_type": "markdown",
   "metadata": {},
   "source": [
    "Compute the electronic energy"
   ]
  },
  {
   "cell_type": "code",
   "execution_count": 5,
   "metadata": {},
   "outputs": [],
   "source": [
    "qm9['u_e'] = qm9['u0'] - qm9['zpe']"
   ]
  },
  {
   "cell_type": "markdown",
   "metadata": {},
   "source": [
    "## Define the QC Specification\n",
    "These settings are as close to recreate those from the QM9 paper (using G09) that I could muster. The key difference between NWChem and G09 is that NWChem uses only spherical functions for the $d$ and $f$ orbitals, whereas Gaussian mixes Cartesian and spherical functions."
   ]
  },
  {
   "cell_type": "code",
   "execution_count": 6,
   "metadata": {},
   "outputs": [],
   "source": [
    "b3lyp_gaussian = 'slater 0.8 HFexch 0.2 becke88 nonlocal 0.72 vwn_3 0.19 lyp 0.81'\n",
    "spec = QCInputSpecification(\n",
    "    model=Model(method='b3lyp', basis='6-31g(2df,p)'),\n",
    "    keywords={\n",
    "        \"dft__convergence\": \"energy 1e-8\",  # Ensures good convergence for gradient\n",
    "        \"dft__grid\": \"xfine\",  # Should recreate Gaussian's grid\n",
    "        \"basis__spherical\": True  # NWChem does not use spherical harmonics for F orbitals by default \n",
    "    })"
   ]
  },
  {
   "cell_type": "markdown",
   "metadata": {},
   "source": [
    "## Compute Reference Energies\n",
    "It is somehow different between codes"
   ]
  },
  {
   "cell_type": "code",
   "execution_count": 7,
   "metadata": {},
   "outputs": [
    {
     "name": "stderr",
     "output_type": "stream",
     "text": [
      "  0%|          | 0/6 [00:00<?, ?it/s]"
     ]
    },
    {
     "name": "stdout",
     "output_type": "stream",
     "text": [
      "building CURRENT CORRELATION ENERGY ........................SUCCESS\n"
     ]
    },
    {
     "name": "stderr",
     "output_type": "stream",
     "text": [
      " 33%|███▎      | 2/6 [00:02<00:07,  1.83s/it]"
     ]
    },
    {
     "name": "stdout",
     "output_type": "stream",
     "text": [
      "building CURRENT CORRELATION ENERGY ........................SUCCESS\n"
     ]
    },
    {
     "name": "stderr",
     "output_type": "stream",
     "text": [
      " 50%|█████     | 3/6 [00:04<00:05,  1.70s/it]"
     ]
    },
    {
     "name": "stdout",
     "output_type": "stream",
     "text": [
      "building CURRENT CORRELATION ENERGY ........................SUCCESS\n"
     ]
    },
    {
     "name": "stderr",
     "output_type": "stream",
     "text": [
      " 67%|██████▋   | 4/6 [00:05<00:03,  1.59s/it]"
     ]
    },
    {
     "name": "stdout",
     "output_type": "stream",
     "text": [
      "building CURRENT CORRELATION ENERGY ........................SUCCESS\n"
     ]
    },
    {
     "name": "stderr",
     "output_type": "stream",
     "text": [
      " 83%|████████▎ | 5/6 [00:06<00:01,  1.47s/it]"
     ]
    },
    {
     "name": "stdout",
     "output_type": "stream",
     "text": [
      "building CURRENT CORRELATION ENERGY ........................SUCCESS\n"
     ]
    },
    {
     "name": "stderr",
     "output_type": "stream",
     "text": [
      "100%|██████████| 6/6 [00:08<00:00,  1.39s/it]"
     ]
    },
    {
     "name": "stdout",
     "output_type": "stream",
     "text": [
      "building CURRENT CORRELATION ENERGY ........................SUCCESS\n"
     ]
    },
    {
     "name": "stderr",
     "output_type": "stream",
     "text": [
      "\n"
     ]
    }
   ],
   "source": [
    "ref_energies = dict((e, compute_reference_energy(e, spec, multiplicity[e], 'nwchem')) for e in tqdm(qm9_ref_energies))"
   ]
  },
  {
   "cell_type": "code",
   "execution_count": 8,
   "metadata": {},
   "outputs": [],
   "source": [
    "all_ref_energies = pd.DataFrame({'nwchem': ref_energies, 'qm9': qm9_ref_energies})"
   ]
  },
  {
   "cell_type": "code",
   "execution_count": 9,
   "metadata": {},
   "outputs": [],
   "source": [
    "all_ref_energies['diff'] = all_ref_energies['nwchem'] - all_ref_energies['qm9']"
   ]
  },
  {
   "cell_type": "code",
   "execution_count": 10,
   "metadata": {},
   "outputs": [
    {
     "data": {
      "text/html": [
       "<div>\n",
       "<style scoped>\n",
       "    .dataframe tbody tr th:only-of-type {\n",
       "        vertical-align: middle;\n",
       "    }\n",
       "\n",
       "    .dataframe tbody tr th {\n",
       "        vertical-align: top;\n",
       "    }\n",
       "\n",
       "    .dataframe thead th {\n",
       "        text-align: right;\n",
       "    }\n",
       "</style>\n",
       "<table border=\"1\" class=\"dataframe\">\n",
       "  <thead>\n",
       "    <tr style=\"text-align: right;\">\n",
       "      <th></th>\n",
       "      <th>nwchem</th>\n",
       "      <th>qm9</th>\n",
       "      <th>diff</th>\n",
       "    </tr>\n",
       "  </thead>\n",
       "  <tbody>\n",
       "    <tr>\n",
       "      <th>C</th>\n",
       "      <td>-37.844958</td>\n",
       "      <td>-37.846772</td>\n",
       "      <td>1.813503e-03</td>\n",
       "    </tr>\n",
       "    <tr>\n",
       "      <th>H</th>\n",
       "      <td>-0.500273</td>\n",
       "      <td>-0.500273</td>\n",
       "      <td>2.175780e-07</td>\n",
       "    </tr>\n",
       "    <tr>\n",
       "      <th>O</th>\n",
       "      <td>-75.060582</td>\n",
       "      <td>-75.064579</td>\n",
       "      <td>3.996706e-03</td>\n",
       "    </tr>\n",
       "    <tr>\n",
       "      <th>N</th>\n",
       "      <td>-54.582876</td>\n",
       "      <td>-54.583861</td>\n",
       "      <td>9.853928e-04</td>\n",
       "    </tr>\n",
       "    <tr>\n",
       "      <th>Li</th>\n",
       "      <td>-7.490902</td>\n",
       "      <td>-7.491464</td>\n",
       "      <td>5.616931e-04</td>\n",
       "    </tr>\n",
       "    <tr>\n",
       "      <th>F</th>\n",
       "      <td>-99.715958</td>\n",
       "      <td>-99.718730</td>\n",
       "      <td>2.771869e-03</td>\n",
       "    </tr>\n",
       "  </tbody>\n",
       "</table>\n",
       "</div>"
      ],
      "text/plain": [
       "       nwchem        qm9          diff\n",
       "C  -37.844958 -37.846772  1.813503e-03\n",
       "H   -0.500273  -0.500273  2.175780e-07\n",
       "O  -75.060582 -75.064579  3.996706e-03\n",
       "N  -54.582876 -54.583861  9.853928e-04\n",
       "Li  -7.490902  -7.491464  5.616931e-04\n",
       "F  -99.715958 -99.718730  2.771869e-03"
      ]
     },
     "execution_count": 10,
     "metadata": {},
     "output_type": "execute_result"
    }
   ],
   "source": [
    "all_ref_energies"
   ]
  },
  {
   "cell_type": "markdown",
   "metadata": {},
   "source": [
    "## Evaluate Atomization Energies\n",
    "For a few molecules, to see if NWChem agrees with G09. We pick the smallest molecules to minimize computational cost"
   ]
  },
  {
   "cell_type": "code",
   "execution_count": 11,
   "metadata": {},
   "outputs": [
    {
     "name": "stdout",
     "output_type": "stream",
     "text": [
      "Selected 32 molecules\n"
     ]
    }
   ],
   "source": [
    "test_rows = qm9.sort_values('n_heavy_atoms', ascending=True).query('n_heavy_atoms<6').head(32)\n",
    "print(f'Selected {len(test_rows)} molecules')"
   ]
  },
  {
   "cell_type": "markdown",
   "metadata": {},
   "source": [
    "### Single-point energy calculation\n",
    "Use the Gaussian geometry"
   ]
  },
  {
   "cell_type": "code",
   "execution_count": 12,
   "metadata": {},
   "outputs": [],
   "source": [
    "test_rows['nwchem_single_u_e'] = None\n",
    "test_rows['nwchem_single_grads'] = None"
   ]
  },
  {
   "cell_type": "code",
   "execution_count": 13,
   "metadata": {},
   "outputs": [
    {
     "name": "stderr",
     "output_type": "stream",
     "text": [
      "32it [35:59, 67.49s/it] \n"
     ]
    }
   ],
   "source": [
    "for rid, row in tqdm(test_rows.iterrows()):\n",
    "    with compute_wrapper(raise_error=True):\n",
    "        result = compute({\n",
    "            'molecule': Molecule.from_data(row['xyz'], fix_symmetry='c1'),\n",
    "            'driver': 'gradient',\n",
    "            **spec.dict(exclude={'driver'})\n",
    "        }, 'nwchem', raise_error=True)\n",
    "    test_rows.loc[rid, 'nwchem_single_u_e'] = result.properties.return_energy\n",
    "    test_rows.loc[rid, 'nwchem_single_grads'] = np.abs(result.return_result).max()"
   ]
  },
  {
   "cell_type": "markdown",
   "metadata": {},
   "source": [
    "Plot the differences in total energy. "
   ]
  },
  {
   "cell_type": "code",
   "execution_count": 14,
   "metadata": {},
   "outputs": [
    {
     "data": {
      "text/plain": [
       "Text(0, 0.5, 'Frequency')"
      ]
     },
     "execution_count": 14,
     "metadata": {},
     "output_type": "execute_result"
    },
    {
     "data": {
      "image/png": "[encoded data removed]",
      "text/plain": [
       "<Figure size 252x180 with 1 Axes>"
      ]
     },
     "metadata": {
      "needs_background": "light"
     },
     "output_type": "display_data"
    }
   ],
   "source": [
    "fig, ax = plt.subplots(figsize=(3.5, 2.5))\n",
    "\n",
    "errors = (test_rows['u_e'] - test_rows['nwchem_single_u_e']) * 627.50947406\n",
    "ax.hist(errors, bins=np.linspace(-4, 4, 32))\n",
    "ax.set_xlabel('Difference from G09 (kcal/mol)')\n",
    "ax.set_ylabel('Frequency')"
   ]
  },
  {
   "cell_type": "markdown",
   "metadata": {},
   "source": [
    "*Finding*: They are pretty large. Several kcal/mol is way too large for our application\n",
    "\n",
    "Checking the atomization energy"
   ]
  },
  {
   "cell_type": "code",
   "execution_count": 15,
   "metadata": {},
   "outputs": [],
   "source": [
    "test_rows['nwchem_single_u_e_atom'] = test_rows.apply(lambda x: subtract_reference_energies(\n",
    "    x['nwchem_single_u_e'], Molecule.from_data(x['xyz']), ref_energies\n",
    "), axis=1)"
   ]
  },
  {
   "cell_type": "code",
   "execution_count": 16,
   "metadata": {},
   "outputs": [],
   "source": [
    "test_rows['u_e_atom'] = test_rows.apply(lambda x: subtract_reference_energies(\n",
    "    x['u_e'], Molecule.from_data(x['xyz']), qm9_ref_energies\n",
    "), axis=1)"
   ]
  },
  {
   "cell_type": "code",
   "execution_count": 17,
   "metadata": {},
   "outputs": [
    {
     "data": {
      "text/plain": [
       "Text(0, 0.5, 'Frequency')"
      ]
     },
     "execution_count": 17,
     "metadata": {},
     "output_type": "execute_result"
    },
    {
     "data": {
      "image/png": "[encoded data removed]",
      "text/plain": [
       "<Figure size 252x180 with 1 Axes>"
      ]
     },
     "metadata": {
      "needs_background": "light"
     },
     "output_type": "display_data"
    }
   ],
   "source": [
    "fig, ax = plt.subplots(figsize=(3.5, 2.5))\n",
    "\n",
    "errors = (test_rows['u_e_atom'] - test_rows['nwchem_single_u_e_atom']) * 627.50947406\n",
    "ax.hist(errors, bins=np.linspace(-4, 4, 32))\n",
    "ax.set_xlabel('Difference from G09 (kcal/mol)')\n",
    "ax.set_ylabel('Frequency')"
   ]
  },
  {
   "cell_type": "markdown",
   "metadata": {},
   "source": [
    "### Geometry Calculations\n",
    "See how much \"worse\" agreement is when we start from the SMILES string. The `relax_structure` argument generates the molecule geometry using RDKit and then relaxes it with NWChem"
   ]
  },
  {
   "cell_type": "code",
   "execution_count": 18,
   "metadata": {},
   "outputs": [
    {
     "name": "stderr",
     "output_type": "stream",
     "text": [
      "32it [3:51:25, 433.92s/it] \n"
     ]
    }
   ],
   "source": [
    "for rid, row in tqdm(test_rows.iterrows()):\n",
    "    try:\n",
    "        with compute_wrapper(raise_error=True):\n",
    "            mol, eng = relax_structure(row['smiles_0'], spec)\n",
    "    except:\n",
    "        continue\n",
    "    test_rows.loc[rid, 'nwchem_u_e'] = eng\n",
    "    test_rows.loc[rid, 'nwchem_xyz'] = mol.final_molecule.to_string('xyz')"
   ]
  },
  {
   "cell_type": "code",
   "execution_count": 19,
   "metadata": {},
   "outputs": [],
   "source": [
    "failed = test_rows['nwchem_u_e'].isnull()\n",
    "print(f'{failed.sum()}/{len(failed)} ({failed.mean() * 100:.1f}%) of relaxations failed')\n",
    "test_rows = test_rows[~failed]"
   ]
  },
  {
   "cell_type": "markdown",
   "metadata": {},
   "source": [
    "See how much the NWChem energies are different with a structure minimized with NWChem"
   ]
  },
  {
   "cell_type": "code",
   "execution_count": 20,
   "metadata": {},
   "outputs": [
    {
     "data": {
      "text/plain": [
       "Text(0, 0.5, 'Frequency')"
      ]
     },
     "execution_count": 20,
     "metadata": {},
     "output_type": "execute_result"
    },
    {
     "data": {
      "image/png": "[encoded data removed]",
      "text/plain": [
       "<Figure size 252x180 with 1 Axes>"
      ]
     },
     "metadata": {
      "needs_background": "light"
     },
     "output_type": "display_data"
    }
   ],
   "source": [
    "fig, ax = plt.subplots(figsize=(3.5, 2.5))\n",
    "\n",
    "errors = (test_rows['nwchem_u_e'] - test_rows['nwchem_single_u_e']) * 627.50947406\n",
    "ax.hist(errors, bins=np.linspace(-0.01, 0.01, 16))\n",
    "ax.set_xlabel('Difference from QM9 Structure (kcal/mol)')\n",
    "ax.set_ylabel('Frequency')"
   ]
  },
  {
   "cell_type": "markdown",
   "metadata": {},
   "source": [
    "*Finding*: We seem to converge on the same structure at least. Changes are in the ~0.001 kcal/mol range"
   ]
  },
  {
   "cell_type": "markdown",
   "metadata": {},
   "source": [
    "See how different the geometries are, based on RMSD"
   ]
  },
  {
   "cell_type": "code",
   "execution_count": 21,
   "metadata": {},
   "outputs": [],
   "source": [
    "test_rows['rmsd'] = test_rows.apply(\n",
    "    lambda x: Molecule.from_data(x['xyz']).align(Molecule.from_data(x['nwchem_xyz']))[1]['rmsd'], \n",
    "    axis=1)"
   ]
  },
  {
   "cell_type": "code",
   "execution_count": 22,
   "metadata": {},
   "outputs": [
    {
     "data": {
      "text/plain": [
       "Text(0, 0.5, 'Frequency')"
      ]
     },
     "execution_count": 22,
     "metadata": {},
     "output_type": "execute_result"
    },
    {
     "data": {
      "image/png": "[encoded data removed]",
      "text/plain": [
       "<Figure size 252x180 with 1 Axes>"
      ]
     },
     "metadata": {
      "needs_background": "light"
     },
     "output_type": "display_data"
    }
   ],
   "source": [
    "fig, ax = plt.subplots(figsize=(3.5, 2.5))\n",
    "\n",
    "ax.hist(test_rows['rmsd'], bins=np.linspace(0, 0.001, 16))\n",
    "ax.set_xlabel('RMSD')\n",
    "ax.set_ylabel('Frequency')"
   ]
  },
  {
   "cell_type": "markdown",
   "metadata": {},
   "source": [
    "*Finding*: They are pretty close. These are very small differences\n",
    "\n",
    "Does relaxation affect the gradients?"
   ]
  },
  {
   "cell_type": "code",
   "execution_count": 23,
   "metadata": {},
   "outputs": [],
   "source": [
    "test_rows['nwchem_grads'] = None"
   ]
  },
  {
   "cell_type": "code",
   "execution_count": 24,
   "metadata": {},
   "outputs": [],
   "source": [
    "for rid, row in tqdm(test_rows.iterrows()):\n",
    "    with compute_wrapper(raise_error=True):\n",
    "        result = compute({\n",
    "            'molecule': Molecule.from_data(row['nwchem_xyz'], fix_symmetry='c1'),\n",
    "            'driver': 'gradient',\n",
    "            **spec.dict(exclude={'driver'})\n",
    "        }, 'nwchem', raise_error=True)\n",
    "    test_rows.loc[rid, 'nwchem_grads'] = np.abs(result.return_result).max()"
   ]
  },
  {
   "cell_type": "code",
   "execution_count": 25,
   "metadata": {},
   "outputs": [
    {
     "data": {
      "text/plain": [
       "Text(0, 0.5, 'Frequency')"
      ]
     },
     "execution_count": 25,
     "metadata": {},
     "output_type": "execute_result"
    },
    {
     "data": {
      "image/png": "[encoded data removed]",
      "text/plain": [
       "<Figure size 252x180 with 1 Axes>"
      ]
     },
     "metadata": {
      "needs_background": "light"
     },
     "output_type": "display_data"
    }
   ],
   "source": [
    "fig, ax = plt.subplots(figsize=(3.5, 2.5))\n",
    "\n",
    "bins = np.logspace(-6, -4, 32)\n",
    "\n",
    "ax.hist(test_rows['nwchem_single_grads'], bins=bins, label='G09 Geometry')\n",
    "ax.hist(test_rows['nwchem_grads'], bins=bins, label='NWC Geometry')\n",
    "ax.legend()\n",
    "ax.set_xscale('log')\n",
    "ax.set_xlabel('Maximum Gradient')\n",
    "ax.set_ylabel('Frequency')"
   ]
  },
  {
   "cell_type": "markdown",
   "metadata": {},
   "source": [
    "*Finding*: No perceptible changes in the maximum gradient\n",
    "\n",
    "Does it actually affect the atomization energy?"
   ]
  },
  {
   "cell_type": "code",
   "execution_count": 26,
   "metadata": {},
   "outputs": [],
   "source": [
    "test_rows['nwchem_u_e_atom'] = test_rows.apply(lambda x: subtract_reference_energies(\n",
    "    x['nwchem_u_e'], Molecule.from_data(x['xyz']), ref_energies\n",
    "), axis=1)"
   ]
  },
  {
   "cell_type": "code",
   "execution_count": 27,
   "metadata": {},
   "outputs": [
    {
     "data": {
      "text/plain": [
       "Text(0, 0.5, 'Frequency')"
      ]
     },
     "execution_count": 27,
     "metadata": {},
     "output_type": "execute_result"
    },
    {
     "data": {
      "image/png": "[encoded data removed]",
      "text/plain": [
       "<Figure size 252x180 with 1 Axes>"
      ]
     },
     "metadata": {
      "needs_background": "light"
     },
     "output_type": "display_data"
    }
   ],
   "source": [
    "fig, ax = plt.subplots(figsize=(3.5, 2.5))\n",
    "\n",
    "errors = (test_rows['u_e_atom'] - test_rows['nwchem_u_e_atom']) * 627.50947406\n",
    "ax.hist(errors, bins=np.linspace(-4, 4, 32))\n",
    "ax.set_xlabel('Difference from G09 (kcal/mol)')\n",
    "ax.set_ylabel('Frequency')"
   ]
  },
  {
   "cell_type": "markdown",
   "metadata": {},
   "source": [
    "*Finding*: Not enough to make the agreement look any better"
   ]
  },
  {
   "cell_type": "markdown",
   "metadata": {},
   "source": [
    "## Include ZPE\n",
    "See how different the energies are when we add zero point energy"
   ]
  },
  {
   "cell_type": "code",
   "execution_count": 28,
   "metadata": {},
   "outputs": [],
   "source": [
    "test_rows['nwchem_zpe'] = None\n",
    "for rid, row in tqdm(test_rows.iterrows()):\n",
    "    with compute_wrapper(raise_error=True):\n",
    "        result = compute({\n",
    "            'molecule': Molecule.from_data(row['nwchem_xyz']),\n",
    "            'driver': 'hessian',\n",
    "            **spec.dict(exclude={'driver'})\n",
    "        }, 'nwchem', raise_error=True)\n",
    "        zpe = compute_zpe(result.return_result, result.molecule)\n",
    "        test_rows.loc[rid, 'nwchem_zpe'] = zpe"
   ]
  },
  {
   "cell_type": "code",
   "execution_count": 31,
   "metadata": {},
   "outputs": [
    {
     "data": {
      "text/plain": [
       "Text(0.5, 0, 'Difference (kcal/mol)')"
      ]
     },
     "execution_count": 31,
     "metadata": {},
     "output_type": "execute_result"
    },
    {
     "data": {
      "image/png": "[encoded data removed]",
      "text/plain": [
       "<Figure size 252x180 with 1 Axes>"
      ]
     },
     "metadata": {
      "needs_background": "light"
     },
     "output_type": "display_data"
    }
   ],
   "source": [
    "fig, ax = plt.subplots(figsize=(3.5, 2.5))\n",
    "\n",
    "diff = (test_rows['nwchem_zpe'] - test_rows['zpe']) * 627.50947406\n",
    "ax.hist(diff, np.linspace(-0.8, 0.8, 32))\n",
    "\n",
    "ax.set_xlabel('Difference (kcal/mol)')"
   ]
  },
  {
   "cell_type": "markdown",
   "metadata": {},
   "source": [
    "*Finding*: The differences are pretty small compared to the total energy"
   ]
  },
  {
   "cell_type": "code",
   "execution_count": null,
   "metadata": {},
   "outputs": [],
   "source": []
  }
 ],
 "metadata": {
  "kernelspec": {
   "display_name": "Python 3",
   "language": "python",
   "name": "python3"
  },
  "language_info": {
   "codemirror_mode": {
    "name": "ipython",
    "version": 3
   },
   "file_extension": ".py",
   "mimetype": "text/x-python",
   "name": "python",
   "nbconvert_exporter": "python",
   "pygments_lexer": "ipython3",
   "version": "3.7.7"
  }
 },
 "nbformat": 4,
 "nbformat_minor": 4
}
