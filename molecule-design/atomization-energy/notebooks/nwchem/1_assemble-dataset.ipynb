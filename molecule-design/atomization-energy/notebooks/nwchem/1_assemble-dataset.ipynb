{
 "cells": [
  {
   "cell_type": "markdown",
   "metadata": {},
   "source": [
    "# Pull Down QCFractal Dataset\n",
    "Get the data from the QCFractal server running on Theta"
   ]
  },
  {
   "cell_type": "code",
   "execution_count": 1,
   "metadata": {},
   "outputs": [
    {
     "name": "stderr",
     "output_type": "stream",
     "text": [
      "/home/wardlt/miniconda3/envs/colmena_full/lib/python3.7/site-packages/openbabel/__init__.py:14: UserWarning: \"import openbabel\" is deprecated, instead use \"from openbabel import openbabel\"\n",
      "  warnings.warn('\"import openbabel\" is deprecated, instead use \"from openbabel import openbabel\"')\n"
     ]
    }
   ],
   "source": [
    "%matplotlib inline\n",
    "from matplotlib import pyplot as plt\n",
    "from moldesign.simulate import compute_reference_energy, subtract_reference_energies\n",
    "from qcelemental.models.procedures import QCInputSpecification\n",
    "from qcelemental.models import Molecule\n",
    "from qcportal.client import FractalClient\n",
    "from qcportal import collections as qcpc\n",
    "import numpy as np\n",
    "import json\n",
    "import os"
   ]
  },
  {
   "cell_type": "markdown",
   "metadata": {},
   "source": [
    "Reference data"
   ]
  },
  {
   "cell_type": "code",
   "execution_count": 2,
   "metadata": {},
   "outputs": [],
   "source": [
    "multiplicity = {'H': 2, 'He': 1, 'Li': 2, 'C': 3, 'N': 4, 'O': 3, 'F': 2}"
   ]
  },
  {
   "cell_type": "markdown",
   "metadata": {},
   "source": [
    "## Connect the Server\n",
    "Our QCFractal server sits on `thetalogin6`, which I connect to via a SSH tunnel on port 7834"
   ]
  },
  {
   "cell_type": "code",
   "execution_count": 3,
   "metadata": {},
   "outputs": [],
   "source": [
    "client = FractalClient('localhost:7874', verify=False, username='user',\n",
    "                      password=os.environ.get('QCAUSR'))"
   ]
  },
  {
   "cell_type": "code",
   "execution_count": 4,
   "metadata": {},
   "outputs": [
    {
     "data": {
      "text/plain": [
       "{'client_lower_version_limit': '0.12.1',\n",
       " 'client_upper_version_limit': '0.13.99',\n",
       " 'counts': {'collection': 7,\n",
       "  'molecule': 218390,\n",
       "  'result': 237121,\n",
       "  'kvstore': 115690},\n",
       " 'heartbeat_frequency': 1800,\n",
       " 'name': 'QCFractal Server',\n",
       " 'query_limit': 1000,\n",
       " 'version': 'v0.12.1+232.g64428bae'}"
      ]
     },
     "execution_count": 4,
     "metadata": {},
     "output_type": "execute_result"
    }
   ],
   "source": [
    "client.server_information()"
   ]
  },
  {
   "cell_type": "markdown",
   "metadata": {},
   "source": [
    "## Access the Collection\n",
    "A collection is route for managing ensembles of calculations in QCFractal. I have made one for the purpose of creating the initial seed dataset"
   ]
  },
  {
   "cell_type": "code",
   "execution_count": 5,
   "metadata": {},
   "outputs": [],
   "source": [
    "coll = client.get_collection('OptimizationDataset', name='Colmena Initial Dataset')"
   ]
  },
  {
   "cell_type": "markdown",
   "metadata": {},
   "source": [
    "Display general status"
   ]
  },
  {
   "cell_type": "code",
   "execution_count": 6,
   "metadata": {},
   "outputs": [
    {
     "data": {
      "text/html": [
       "<div>\n",
       "<style scoped>\n",
       "    .dataframe tbody tr th:only-of-type {\n",
       "        vertical-align: middle;\n",
       "    }\n",
       "\n",
       "    .dataframe tbody tr th {\n",
       "        vertical-align: top;\n",
       "    }\n",
       "\n",
       "    .dataframe thead th {\n",
       "        text-align: right;\n",
       "    }\n",
       "</style>\n",
       "<table border=\"1\" class=\"dataframe\">\n",
       "  <thead>\n",
       "    <tr style=\"text-align: right;\">\n",
       "      <th></th>\n",
       "      <th>small_basis</th>\n",
       "      <th>default</th>\n",
       "    </tr>\n",
       "  </thead>\n",
       "  <tbody>\n",
       "    <tr>\n",
       "      <th>COMPLETE</th>\n",
       "      <td>815</td>\n",
       "      <td>NaN</td>\n",
       "    </tr>\n",
       "    <tr>\n",
       "      <th>ERROR</th>\n",
       "      <td>148</td>\n",
       "      <td>NaN</td>\n",
       "    </tr>\n",
       "    <tr>\n",
       "      <th>INCOMPLETE</th>\n",
       "      <td>537</td>\n",
       "      <td>NaN</td>\n",
       "    </tr>\n",
       "  </tbody>\n",
       "</table>\n",
       "</div>"
      ],
      "text/plain": [
       "            small_basis  default\n",
       "COMPLETE            815      NaN\n",
       "ERROR               148      NaN\n",
       "INCOMPLETE          537      NaN"
      ]
     },
     "execution_count": 6,
     "metadata": {},
     "output_type": "execute_result"
    }
   ],
   "source": [
    "specs = coll.list_specifications(False)\n",
    "for spec in specs: coll.query(spec)\n",
    "coll.status()"
   ]
  },
  {
   "cell_type": "markdown",
   "metadata": {},
   "source": [
    "Get only the \"COMPLETE\" calcualtions for the small basis"
   ]
  },
  {
   "cell_type": "code",
   "execution_count": 7,
   "metadata": {},
   "outputs": [],
   "source": [
    "df = coll.df[coll.df.small_basis.apply(lambda x: x.status.value == 'COMPLETE')][['small_basis']]"
   ]
  },
  {
   "cell_type": "markdown",
   "metadata": {},
   "source": [
    "Get the molecular structure, total energy, and runtime"
   ]
  },
  {
   "cell_type": "code",
   "execution_count": 8,
   "metadata": {},
   "outputs": [],
   "source": [
    "r = df.small_basis.iloc[0]"
   ]
  },
  {
   "cell_type": "code",
   "execution_count": 9,
   "metadata": {},
   "outputs": [],
   "source": [
    "df['mol'] = df['small_basis'].apply(lambda r: r.get_final_molecule())"
   ]
  },
  {
   "cell_type": "code",
   "execution_count": 10,
   "metadata": {},
   "outputs": [],
   "source": [
    "df['xyz'] = df['mol'].apply(lambda x: x.to_string('xyz'))"
   ]
  },
  {
   "cell_type": "code",
   "execution_count": 11,
   "metadata": {},
   "outputs": [],
   "source": [
    "df['u_e'] = df['small_basis'].apply(lambda r: r.get_final_energy())"
   ]
  },
  {
   "cell_type": "code",
   "execution_count": 12,
   "metadata": {},
   "outputs": [],
   "source": [
    "df['n_electrons'] = df['mol'].apply(Molecule.nelectrons)"
   ]
  },
  {
   "cell_type": "code",
   "execution_count": 13,
   "metadata": {},
   "outputs": [],
   "source": [
    "df['runtime'] = df['small_basis'].apply(lambda r: r.provenance.wall_time)"
   ]
  },
  {
   "cell_type": "code",
   "execution_count": 14,
   "metadata": {},
   "outputs": [
    {
     "data": {
      "text/plain": [
       "count      815.000000\n",
       "mean      1420.613756\n",
       "std       1228.146368\n",
       "min        333.239939\n",
       "25%        802.468047\n",
       "50%       1026.244500\n",
       "75%       1481.857644\n",
       "max      11171.421887\n",
       "Name: runtime, dtype: float64"
      ]
     },
     "execution_count": 14,
     "metadata": {},
     "output_type": "execute_result"
    }
   ],
   "source": [
    "df['runtime'].describe()"
   ]
  },
  {
   "cell_type": "code",
   "execution_count": 15,
   "metadata": {},
   "outputs": [
    {
     "data": {
      "text/plain": [
       "Text(0, 0.5, 'Frequency')"
      ]
     },
     "execution_count": 15,
     "metadata": {},
     "output_type": "execute_result"
    },
    {
     "data": {
      "image/png": "[encoded data removed]",
      "text/plain": [
       "<Figure size 252x180 with 1 Axes>"
      ]
     },
     "metadata": {
      "needs_background": "light"
     },
     "output_type": "display_data"
    }
   ],
   "source": [
    "fig, ax = plt.subplots(figsize=(3.5, 2.5))\n",
    "\n",
    "ax.hist(df['runtime'], bins=np.logspace(2.1, 4.2, 32))\n",
    "ax.set_xscale('log')\n",
    "\n",
    "ax.set_xlabel('Runtime (s)')\n",
    "ax.set_ylabel('Frequency')"
   ]
  },
  {
   "cell_type": "code",
   "execution_count": 16,
   "metadata": {},
   "outputs": [
    {
     "data": {
      "image/png": "[encoded data removed]",
      "text/plain": [
       "<Figure size 252x180 with 1 Axes>"
      ]
     },
     "metadata": {
      "needs_background": "light"
     },
     "output_type": "display_data"
    }
   ],
   "source": [
    "fig, ax = plt.subplots(figsize=(3.5, 2.5))\n",
    "\n",
    "ax.scatter(df['n_electrons'], df['runtime'])\n",
    "ax.set_yscale('log')\n",
    "ax.set_xscale('log')"
   ]
  },
  {
   "cell_type": "markdown",
   "metadata": {},
   "source": [
    "## Compute the Atomization Energy\n",
    "We are going to compute the reference energies first, because doing so is quick"
   ]
  },
  {
   "cell_type": "markdown",
   "metadata": {},
   "source": [
    "Get the correct specification"
   ]
  },
  {
   "cell_type": "code",
   "execution_count": 17,
   "metadata": {},
   "outputs": [],
   "source": [
    "spec = r.qc_spec.dict()"
   ]
  },
  {
   "cell_type": "code",
   "execution_count": 18,
   "metadata": {},
   "outputs": [],
   "source": [
    "kwargs = client.query_keywords(r.qc_spec.keywords)[0]\n",
    "spec['keywords'] = kwargs.values"
   ]
  },
  {
   "cell_type": "code",
   "execution_count": 19,
   "metadata": {},
   "outputs": [],
   "source": [
    "spec = QCInputSpecification(model={'method': spec['method'], 'basis': spec['basis']}, keywords=spec['keywords'])"
   ]
  },
  {
   "cell_type": "code",
   "execution_count": 20,
   "metadata": {},
   "outputs": [
    {
     "name": "stdout",
     "output_type": "stream",
     "text": [
      "building CURRENT CORRELATION ENERGY ........................SUCCESS\n",
      "building CURRENT CORRELATION ENERGY ........................SUCCESS\n",
      "building CURRENT CORRELATION ENERGY ........................SUCCESS\n",
      "building CURRENT CORRELATION ENERGY ........................SUCCESS\n",
      "building CURRENT CORRELATION ENERGY ........................SUCCESS\n",
      "building CURRENT CORRELATION ENERGY ........................SUCCESS\n",
      "building CURRENT CORRELATION ENERGY ........................SUCCESS\n"
     ]
    }
   ],
   "source": [
    "ref_energies = dict((e, compute_reference_energy(e, spec, m, 'nwchem')) for e, m in multiplicity.items())"
   ]
  },
  {
   "cell_type": "code",
   "execution_count": 21,
   "metadata": {},
   "outputs": [],
   "source": [
    "with open('ref_energies.json', 'w') as fp:\n",
    "    json.dump(ref_energies, fp)"
   ]
  },
  {
   "cell_type": "markdown",
   "metadata": {},
   "source": [
    "Compute it "
   ]
  },
  {
   "cell_type": "code",
   "execution_count": 22,
   "metadata": {},
   "outputs": [],
   "source": [
    "df['u_e_atom'] = df.apply(lambda r: subtract_reference_energies(r['u_e'], r['mol'], ref_energies), axis=1)"
   ]
  },
  {
   "cell_type": "code",
   "execution_count": 23,
   "metadata": {},
   "outputs": [
    {
     "data": {
      "text/html": [
       "<div>\n",
       "<style scoped>\n",
       "    .dataframe tbody tr th:only-of-type {\n",
       "        vertical-align: middle;\n",
       "    }\n",
       "\n",
       "    .dataframe tbody tr th {\n",
       "        vertical-align: top;\n",
       "    }\n",
       "\n",
       "    .dataframe thead th {\n",
       "        text-align: right;\n",
       "    }\n",
       "</style>\n",
       "<table border=\"1\" class=\"dataframe\">\n",
       "  <thead>\n",
       "    <tr style=\"text-align: right;\">\n",
       "      <th></th>\n",
       "      <th>small_basis</th>\n",
       "      <th>mol</th>\n",
       "      <th>xyz</th>\n",
       "      <th>u_e</th>\n",
       "      <th>n_electrons</th>\n",
       "      <th>runtime</th>\n",
       "      <th>u_e_atom</th>\n",
       "    </tr>\n",
       "  </thead>\n",
       "  <tbody>\n",
       "    <tr>\n",
       "      <th>CC1=C(CCC1)C1CN1</th>\n",
       "      <td>OptimizationRecord(id='209688', status='COMPLE...</td>\n",
       "      <td>Molecule(name='C8H13N', formula='C8H13N', hash...</td>\n",
       "      <td>22\\n0 1 C8H13N\\nC                    -0.191085...</td>\n",
       "      <td>-365.352168</td>\n",
       "      <td>68</td>\n",
       "      <td>2037.618881</td>\n",
       "      <td>-3.450086</td>\n",
       "    </tr>\n",
       "    <tr>\n",
       "      <th>COC12CCC1C1CC21</th>\n",
       "      <td>OptimizationRecord(id='209689', status='COMPLE...</td>\n",
       "      <td>Molecule(name='C8H12O', formula='C8H12O', hash...</td>\n",
       "      <td>21\\n0 1 C8H12O\\nC                     0.013119...</td>\n",
       "      <td>-385.058496</td>\n",
       "      <td>68</td>\n",
       "      <td>4464.605268</td>\n",
       "      <td>-3.288894</td>\n",
       "    </tr>\n",
       "    <tr>\n",
       "      <th>OC1CC2CC12</th>\n",
       "      <td>OptimizationRecord(id='209690', status='COMPLE...</td>\n",
       "      <td>Molecule(name='C5H8O', formula='C5H8O', hash='...</td>\n",
       "      <td>14\\n0 1 C5H8O\\nO                    -0.1753102...</td>\n",
       "      <td>-268.998752</td>\n",
       "      <td>46</td>\n",
       "      <td>706.820857</td>\n",
       "      <td>-2.146485</td>\n",
       "    </tr>\n",
       "    <tr>\n",
       "      <th>CC1C2CCC1C1CC21</th>\n",
       "      <td>OptimizationRecord(id='209691', status='COMPLE...</td>\n",
       "      <td>Molecule(name='C9H14', formula='C9H14', hash='...</td>\n",
       "      <td>23\\n0 1 C9H14\\nC                    -0.0576958...</td>\n",
       "      <td>-349.441955</td>\n",
       "      <td>68</td>\n",
       "      <td>627.940747</td>\n",
       "      <td>-3.695327</td>\n",
       "    </tr>\n",
       "    <tr>\n",
       "      <th>COC12CC(C1C)C2=O</th>\n",
       "      <td>OptimizationRecord(id='209752', status='COMPLE...</td>\n",
       "      <td>Molecule(name='C7H10O2', formula='C7H10O2', ha...</td>\n",
       "      <td>19\\n0 1 C7H10O2\\nC                     0.49642...</td>\n",
       "      <td>-420.793177</td>\n",
       "      <td>68</td>\n",
       "      <td>3382.608842</td>\n",
       "      <td>-3.000602</td>\n",
       "    </tr>\n",
       "    <tr>\n",
       "      <th>...</th>\n",
       "      <td>...</td>\n",
       "      <td>...</td>\n",
       "      <td>...</td>\n",
       "      <td>...</td>\n",
       "      <td>...</td>\n",
       "      <td>...</td>\n",
       "      <td>...</td>\n",
       "    </tr>\n",
       "    <tr>\n",
       "      <th>CC1OC(C)(C=O)C=C1</th>\n",
       "      <td>OptimizationRecord(id='210837', status='COMPLE...</td>\n",
       "      <td>Molecule(name='C7H10O2', formula='C7H10O2', ha...</td>\n",
       "      <td>19\\n0 1 C7H10O2\\nC                     0.04497...</td>\n",
       "      <td>-420.852776</td>\n",
       "      <td>68</td>\n",
       "      <td>1026.244500</td>\n",
       "      <td>-3.060201</td>\n",
       "    </tr>\n",
       "    <tr>\n",
       "      <th>CC12CC1NC=C2C=O</th>\n",
       "      <td>OptimizationRecord(id='210838', status='COMPLE...</td>\n",
       "      <td>Molecule(name='C7H9NO', formula='C7H9NO', hash...</td>\n",
       "      <td>18\\n0 1 C7H9NO\\nC                    -0.060320...</td>\n",
       "      <td>-399.865148</td>\n",
       "      <td>66</td>\n",
       "      <td>955.806171</td>\n",
       "      <td>-2.934715</td>\n",
       "    </tr>\n",
       "    <tr>\n",
       "      <th>CCC#CC1=COC=N1</th>\n",
       "      <td>OptimizationRecord(id='210841', status='COMPLE...</td>\n",
       "      <td>Molecule(name='C7H7NO', formula='C7H7NO', hash...</td>\n",
       "      <td>16\\n0 1 C7H7NO\\nC                    -0.043827...</td>\n",
       "      <td>-398.640802</td>\n",
       "      <td>64</td>\n",
       "      <td>696.897092</td>\n",
       "      <td>-2.704991</td>\n",
       "    </tr>\n",
       "    <tr>\n",
       "      <th>NC(=O)C1COC1C#C</th>\n",
       "      <td>OptimizationRecord(id='210842', status='COMPLE...</td>\n",
       "      <td>Molecule(name='C6H7NO2', formula='C6H7NO2', ha...</td>\n",
       "      <td>16\\n0 1 C6H7NO2\\nN                     0.44672...</td>\n",
       "      <td>-435.536036</td>\n",
       "      <td>66</td>\n",
       "      <td>771.955753</td>\n",
       "      <td>-2.582628</td>\n",
       "    </tr>\n",
       "    <tr>\n",
       "      <th>O=C1OC2CC2C1C#C</th>\n",
       "      <td>OptimizationRecord(id='210843', status='COMPLE...</td>\n",
       "      <td>Molecule(name='C7H6O2', formula='C7H6O2', hash...</td>\n",
       "      <td>15\\n0 1 C7H6O2\\nO                    -0.032234...</td>\n",
       "      <td>-418.374340</td>\n",
       "      <td>64</td>\n",
       "      <td>707.591597</td>\n",
       "      <td>-2.571010</td>\n",
       "    </tr>\n",
       "  </tbody>\n",
       "</table>\n",
       "<p>815 rows × 7 columns</p>\n",
       "</div>"
      ],
      "text/plain": [
       "                                                         small_basis  \\\n",
       "CC1=C(CCC1)C1CN1   OptimizationRecord(id='209688', status='COMPLE...   \n",
       "COC12CCC1C1CC21    OptimizationRecord(id='209689', status='COMPLE...   \n",
       "OC1CC2CC12         OptimizationRecord(id='209690', status='COMPLE...   \n",
       "CC1C2CCC1C1CC21    OptimizationRecord(id='209691', status='COMPLE...   \n",
       "COC12CC(C1C)C2=O   OptimizationRecord(id='209752', status='COMPLE...   \n",
       "...                                                              ...   \n",
       "CC1OC(C)(C=O)C=C1  OptimizationRecord(id='210837', status='COMPLE...   \n",
       "CC12CC1NC=C2C=O    OptimizationRecord(id='210838', status='COMPLE...   \n",
       "CCC#CC1=COC=N1     OptimizationRecord(id='210841', status='COMPLE...   \n",
       "NC(=O)C1COC1C#C    OptimizationRecord(id='210842', status='COMPLE...   \n",
       "O=C1OC2CC2C1C#C    OptimizationRecord(id='210843', status='COMPLE...   \n",
       "\n",
       "                                                                 mol  \\\n",
       "CC1=C(CCC1)C1CN1   Molecule(name='C8H13N', formula='C8H13N', hash...   \n",
       "COC12CCC1C1CC21    Molecule(name='C8H12O', formula='C8H12O', hash...   \n",
       "OC1CC2CC12         Molecule(name='C5H8O', formula='C5H8O', hash='...   \n",
       "CC1C2CCC1C1CC21    Molecule(name='C9H14', formula='C9H14', hash='...   \n",
       "COC12CC(C1C)C2=O   Molecule(name='C7H10O2', formula='C7H10O2', ha...   \n",
       "...                                                              ...   \n",
       "CC1OC(C)(C=O)C=C1  Molecule(name='C7H10O2', formula='C7H10O2', ha...   \n",
       "CC12CC1NC=C2C=O    Molecule(name='C7H9NO', formula='C7H9NO', hash...   \n",
       "CCC#CC1=COC=N1     Molecule(name='C7H7NO', formula='C7H7NO', hash...   \n",
       "NC(=O)C1COC1C#C    Molecule(name='C6H7NO2', formula='C6H7NO2', ha...   \n",
       "O=C1OC2CC2C1C#C    Molecule(name='C7H6O2', formula='C7H6O2', hash...   \n",
       "\n",
       "                                                                 xyz  \\\n",
       "CC1=C(CCC1)C1CN1   22\\n0 1 C8H13N\\nC                    -0.191085...   \n",
       "COC12CCC1C1CC21    21\\n0 1 C8H12O\\nC                     0.013119...   \n",
       "OC1CC2CC12         14\\n0 1 C5H8O\\nO                    -0.1753102...   \n",
       "CC1C2CCC1C1CC21    23\\n0 1 C9H14\\nC                    -0.0576958...   \n",
       "COC12CC(C1C)C2=O   19\\n0 1 C7H10O2\\nC                     0.49642...   \n",
       "...                                                              ...   \n",
       "CC1OC(C)(C=O)C=C1  19\\n0 1 C7H10O2\\nC                     0.04497...   \n",
       "CC12CC1NC=C2C=O    18\\n0 1 C7H9NO\\nC                    -0.060320...   \n",
       "CCC#CC1=COC=N1     16\\n0 1 C7H7NO\\nC                    -0.043827...   \n",
       "NC(=O)C1COC1C#C    16\\n0 1 C6H7NO2\\nN                     0.44672...   \n",
       "O=C1OC2CC2C1C#C    15\\n0 1 C7H6O2\\nO                    -0.032234...   \n",
       "\n",
       "                          u_e  n_electrons      runtime  u_e_atom  \n",
       "CC1=C(CCC1)C1CN1  -365.352168           68  2037.618881 -3.450086  \n",
       "COC12CCC1C1CC21   -385.058496           68  4464.605268 -3.288894  \n",
       "OC1CC2CC12        -268.998752           46   706.820857 -2.146485  \n",
       "CC1C2CCC1C1CC21   -349.441955           68   627.940747 -3.695327  \n",
       "COC12CC(C1C)C2=O  -420.793177           68  3382.608842 -3.000602  \n",
       "...                       ...          ...          ...       ...  \n",
       "CC1OC(C)(C=O)C=C1 -420.852776           68  1026.244500 -3.060201  \n",
       "CC12CC1NC=C2C=O   -399.865148           66   955.806171 -2.934715  \n",
       "CCC#CC1=COC=N1    -398.640802           64   696.897092 -2.704991  \n",
       "NC(=O)C1COC1C#C   -435.536036           66   771.955753 -2.582628  \n",
       "O=C1OC2CC2C1C#C   -418.374340           64   707.591597 -2.571010  \n",
       "\n",
       "[815 rows x 7 columns]"
      ]
     },
     "execution_count": 23,
     "metadata": {},
     "output_type": "execute_result"
    }
   ],
   "source": [
    "df"
   ]
  },
  {
   "cell_type": "code",
   "execution_count": 24,
   "metadata": {},
   "outputs": [],
   "source": [
    "df.drop(columns={'mol', 'small_basis'}).to_csv('initial_nwchem.csv', index_label='smiles')"
   ]
  },
  {
   "cell_type": "code",
   "execution_count": null,
   "metadata": {},
   "outputs": [],
   "source": []
  }
 ],
 "metadata": {
  "kernelspec": {
   "display_name": "Python 3",
   "language": "python",
   "name": "python3"
  },
  "language_info": {
   "codemirror_mode": {
    "name": "ipython",
    "version": 3
   },
   "file_extension": ".py",
   "mimetype": "text/x-python",
   "name": "python",
   "nbconvert_exporter": "python",
   "pygments_lexer": "ipython3",
   "version": "3.7.7"
  }
 },
 "nbformat": 4,
 "nbformat_minor": 4
}
