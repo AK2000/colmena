{
 "cells": [
  {
   "cell_type": "markdown",
   "metadata": {},
   "source": [
    "# Plot Run Data\n",
    "This notebook plots the performance of a run to assess the optimization performance and system utilization."
   ]
  },
  {
   "cell_type": "code",
   "execution_count": 1,
   "metadata": {},
   "outputs": [],
   "source": [
    "%matplotlib inline\n",
    "from matplotlib import pyplot as plt\n",
    "import pandas as pd\n",
    "import numpy as np\n",
    "import json\n",
    "import os"
   ]
  },
  {
   "cell_type": "markdown",
   "metadata": {},
   "source": [
    "Load the run information "
   ]
  },
  {
   "cell_type": "code",
   "execution_count": 2,
   "metadata": {},
   "outputs": [],
   "source": [
    "run_info = pd.read_csv('run_data.csv')"
   ]
  },
  {
   "cell_type": "markdown",
   "metadata": {},
   "source": [
    "Pick one"
   ]
  },
  {
   "cell_type": "code",
   "execution_count": 3,
   "metadata": {},
   "outputs": [
    {
     "name": "stdout",
     "output_type": "stream",
     "text": [
      "path                runs/22Jun20-222335-1693ca\n",
      "param_hash                              1693ca\n",
      "start_time                 2020-06-22 22:23:03\n",
      "parallel_guesses                            10\n",
      "rl_episodes                                 10\n",
      "search_size                                 10\n",
      "initial_count                               10\n",
      "hostname                             thetamom3\n",
      "worker_count                                 8\n",
      "n_evals                                     20\n",
      "Name: 0, dtype: object\n"
     ]
    }
   ],
   "source": [
    "run_info = run_info.sort_values('start_time', ascending=False).iloc[0]\n",
    "print(run_info)"
   ]
  },
  {
   "cell_type": "markdown",
   "metadata": {},
   "source": [
    "## Load in Result File\n",
    "This file is the list of the quantum chemistry results"
   ]
  },
  {
   "cell_type": "code",
   "execution_count": 4,
   "metadata": {},
   "outputs": [],
   "source": [
    "result_data = pd.read_json(os.path.join(run_info['path'], 'simulation_records.jsonld'), lines=True)"
   ]
  },
  {
   "cell_type": "markdown",
   "metadata": {},
   "source": [
    "Plot the time since first result"
   ]
  },
  {
   "cell_type": "code",
   "execution_count": 5,
   "metadata": {},
   "outputs": [],
   "source": [
    "result_data['walltime'] = result_data['time_result_received'] - result_data['time_created'].min()"
   ]
  },
  {
   "cell_type": "markdown",
   "metadata": {},
   "source": [
    "Plot the rate at which we aquired new results"
   ]
  },
  {
   "cell_type": "code",
   "execution_count": 6,
   "metadata": {},
   "outputs": [
    {
     "data": {
      "image/png": "[encoded data removed]",
      "text/plain": [
       "<Figure size 468x180 with 2 Axes>"
      ]
     },
     "metadata": {
      "needs_background": "light"
     },
     "output_type": "display_data"
    }
   ],
   "source": [
    "fig, axs = plt.subplots(1, 2, sharey=True, figsize=(6.5, 2.5))\n",
    "\n",
    "axs[0].plot(result_data.index, result_data['value'])\n",
    "axs[0].set_xlabel('Index')\n",
    "axs[0].set_ylabel('Atomization Energy (Ha)')\n",
    "\n",
    "axs[1].plot(result_data['walltime'], result_data['value'])\n",
    "axs[1].set_xlabel('Walltime (s)')\n",
    "\n",
    "fig.tight_layout()"
   ]
  },
  {
   "cell_type": "markdown",
   "metadata": {},
   "source": [
    "## Evaluate Runtimes\n",
    "Estimate the runtimes of the QC code"
   ]
  },
  {
   "cell_type": "code",
   "execution_count": 7,
   "metadata": {},
   "outputs": [
    {
     "data": {
      "image/png": "[encoded data removed]",
      "text/plain": [
       "<Figure size 252x180 with 1 Axes>"
      ]
     },
     "metadata": {
      "needs_background": "light"
     },
     "output_type": "display_data"
    }
   ],
   "source": [
    "fig, ax = plt.subplots(figsize=(3.5, 2.5))\n",
    "\n",
    "ax.hist(result_data['time_running'], bins=np.logspace(1, 3, 32))\n",
    "ax.set_xscale('log')\n",
    "\n",
    "ax.set_xlabel('Runtime (s)')\n",
    "ax.set_ylabel('Count')\n",
    "fig.tight_layout()"
   ]
  },
  {
   "cell_type": "markdown",
   "metadata": {},
   "source": [
    "## Plot the Number of Results Being Run at a Time\n",
    "We can look at the \"inputs recieved\" and \"output sent\" times to get the number of calculations actively requested on the method server"
   ]
  },
  {
   "cell_type": "code",
   "execution_count": 8,
   "metadata": {},
   "outputs": [],
   "source": [
    "events = [{'time': t, 'queue_delta': 1} for t in result_data['time_input_received']]\n",
    "events.extend([{'time': t, 'queue_delta': -1} for t in result_data['time_result_received']])\n",
    "events = pd.DataFrame(events)"
   ]
  },
  {
   "cell_type": "markdown",
   "metadata": {},
   "source": [
    "Make the results easier to plot"
   ]
  },
  {
   "cell_type": "code",
   "execution_count": 9,
   "metadata": {},
   "outputs": [],
   "source": [
    "events.sort_values('time', ascending=True, inplace=True)"
   ]
  },
  {
   "cell_type": "code",
   "execution_count": 10,
   "metadata": {},
   "outputs": [],
   "source": [
    "events['walltime'] = events['time'] - events['time'].min()"
   ]
  },
  {
   "cell_type": "code",
   "execution_count": 11,
   "metadata": {},
   "outputs": [],
   "source": [
    "events['queue_length'] = events['queue_delta'].cumsum()"
   ]
  },
  {
   "cell_type": "markdown",
   "metadata": {},
   "source": [
    "Compute worker utilization"
   ]
  },
  {
   "cell_type": "code",
   "execution_count": 12,
   "metadata": {},
   "outputs": [],
   "source": [
    "events['has_work'] = events['queue_length'] >= run_info['worker_count']"
   ]
  },
  {
   "cell_type": "code",
   "execution_count": 13,
   "metadata": {},
   "outputs": [],
   "source": [
    "time_with_work = np.multiply(events['walltime'].iloc[1:].values \n",
    "                             - events['walltime'].iloc[:-1].values,\n",
    "                             events['has_work'].iloc[:-1]).values"
   ]
  },
  {
   "cell_type": "code",
   "execution_count": 14,
   "metadata": {},
   "outputs": [],
   "source": [
    "events['utilization'] = time_with_work.cumsum() / events['walltime'].iloc[1:]"
   ]
  },
  {
   "cell_type": "markdown",
   "metadata": {},
   "source": [
    "Plot the queue length and utilization"
   ]
  },
  {
   "cell_type": "code",
   "execution_count": 15,
   "metadata": {},
   "outputs": [
    {
     "data": {
      "image/png": "[encoded data removed]",
      "text/plain": [
       "<Figure size 468x180 with 2 Axes>"
      ]
     },
     "metadata": {
      "needs_background": "light"
     },
     "output_type": "display_data"
    }
   ],
   "source": [
    "fig, axs = plt.subplots(1, 2, figsize=(6.5, 2.5))\n",
    "\n",
    "# Plot the queue length\n",
    "ax = axs[0]\n",
    "ax.step(events['walltime'], events['queue_length'], where='post')\n",
    "ax.set_xlabel('Walltime (s)')\n",
    "ax.set_ylabel('Queue Length (s)')\n",
    "\n",
    "ax = axs[1]\n",
    "ax.plot(events['walltime'], events['utilization'] * 100)\n",
    "ax.set_xlabel('Walltime (s)')\n",
    "ax.set_ylabel('Utilization (%)')\n",
    "ax.set_ylim(0, 105)\n",
    "\n",
    "fig.tight_layout()"
   ]
  },
  {
   "cell_type": "code",
   "execution_count": null,
   "metadata": {},
   "outputs": [],
   "source": []
  }
 ],
 "metadata": {
  "kernelspec": {
   "display_name": "Python 3",
   "language": "python",
   "name": "python3"
  },
  "language_info": {
   "codemirror_mode": {
    "name": "ipython",
    "version": 3
   },
   "file_extension": ".py",
   "mimetype": "text/x-python",
   "name": "python",
   "nbconvert_exporter": "python",
   "pygments_lexer": "ipython3",
   "version": "3.7.7"
  }
 },
 "nbformat": 4,
 "nbformat_minor": 4
}
